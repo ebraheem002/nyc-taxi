{
  "cells": [
    {
      "cell_type": "markdown",
      "id": "62d1f3dd-01a3-4344-99d8-f6504ca47c4d",
      "metadata": {
        "id": "62d1f3dd-01a3-4344-99d8-f6504ca47c4d"
      },
      "source": [
        "# 1-import Data\n"
      ]
    },
    {
      "cell_type": "code",
      "execution_count": 5,
      "id": "4b213585-f60a-4e51-ac76-4d0dc92d8306",
      "metadata": {
        "editable": true,
        "tags": [],
        "id": "4b213585-f60a-4e51-ac76-4d0dc92d8306"
      },
      "outputs": [],
      "source": [
        "import pandas as pd"
      ]
    },
    {
      "cell_type": "code",
      "execution_count": 6,
      "id": "70f50e88-89ee-4f51-82a0-518870993fcb",
      "metadata": {
        "id": "70f50e88-89ee-4f51-82a0-518870993fcb",
        "colab": {
          "base_uri": "https://localhost:8080/",
          "height": 300
        },
        "outputId": "82a3f76a-0f66-48d5-b4dd-77520cfeb274"
      },
      "outputs": [
        {
          "output_type": "error",
          "ename": "ArrowInvalid",
          "evalue": "Could not open Parquet input source '<Buffer>': Parquet magic bytes not found in footer. Either the file is corrupted or this is not a parquet file.",
          "traceback": [
            "\u001b[0;31m---------------------------------------------------------------------------\u001b[0m",
            "\u001b[0;31mArrowInvalid\u001b[0m                              Traceback (most recent call last)",
            "\u001b[0;32m<ipython-input-6-afdfa5a80247>\u001b[0m in \u001b[0;36m<cell line: 0>\u001b[0;34m()\u001b[0m\n\u001b[1;32m      3\u001b[0m         'DOLocationID', 'payment_type', 'total_amount']\n\u001b[1;32m      4\u001b[0m \u001b[0;34m\u001b[0m\u001b[0m\n\u001b[0;32m----> 5\u001b[0;31m \u001b[0mtaxi_jan_2019\u001b[0m \u001b[0;34m=\u001b[0m \u001b[0mpd\u001b[0m\u001b[0;34m.\u001b[0m\u001b[0mread_parquet\u001b[0m\u001b[0;34m(\u001b[0m\u001b[0;34m'yellow_tripdata_2019-01.parquet'\u001b[0m\u001b[0;34m,\u001b[0m \u001b[0mcolumns\u001b[0m\u001b[0;34m=\u001b[0m\u001b[0mcols\u001b[0m\u001b[0;34m)\u001b[0m\u001b[0;34m\u001b[0m\u001b[0;34m\u001b[0m\u001b[0m\n\u001b[0m\u001b[1;32m      6\u001b[0m \u001b[0;34m\u001b[0m\u001b[0m\n\u001b[1;32m      7\u001b[0m \u001b[0;31m# To add new data in the future\u001b[0m\u001b[0;34m\u001b[0m\u001b[0;34m\u001b[0m\u001b[0m\n",
            "\u001b[0;32m/usr/local/lib/python3.11/dist-packages/pandas/io/parquet.py\u001b[0m in \u001b[0;36mread_parquet\u001b[0;34m(path, engine, columns, storage_options, use_nullable_dtypes, dtype_backend, filesystem, filters, **kwargs)\u001b[0m\n\u001b[1;32m    665\u001b[0m     \u001b[0mcheck_dtype_backend\u001b[0m\u001b[0;34m(\u001b[0m\u001b[0mdtype_backend\u001b[0m\u001b[0;34m)\u001b[0m\u001b[0;34m\u001b[0m\u001b[0;34m\u001b[0m\u001b[0m\n\u001b[1;32m    666\u001b[0m \u001b[0;34m\u001b[0m\u001b[0m\n\u001b[0;32m--> 667\u001b[0;31m     return impl.read(\n\u001b[0m\u001b[1;32m    668\u001b[0m         \u001b[0mpath\u001b[0m\u001b[0;34m,\u001b[0m\u001b[0;34m\u001b[0m\u001b[0;34m\u001b[0m\u001b[0m\n\u001b[1;32m    669\u001b[0m         \u001b[0mcolumns\u001b[0m\u001b[0;34m=\u001b[0m\u001b[0mcolumns\u001b[0m\u001b[0;34m,\u001b[0m\u001b[0;34m\u001b[0m\u001b[0;34m\u001b[0m\u001b[0m\n",
            "\u001b[0;32m/usr/local/lib/python3.11/dist-packages/pandas/io/parquet.py\u001b[0m in \u001b[0;36mread\u001b[0;34m(self, path, columns, filters, use_nullable_dtypes, dtype_backend, storage_options, filesystem, **kwargs)\u001b[0m\n\u001b[1;32m    272\u001b[0m         )\n\u001b[1;32m    273\u001b[0m         \u001b[0;32mtry\u001b[0m\u001b[0;34m:\u001b[0m\u001b[0;34m\u001b[0m\u001b[0;34m\u001b[0m\u001b[0m\n\u001b[0;32m--> 274\u001b[0;31m             pa_table = self.api.parquet.read_table(\n\u001b[0m\u001b[1;32m    275\u001b[0m                 \u001b[0mpath_or_handle\u001b[0m\u001b[0;34m,\u001b[0m\u001b[0;34m\u001b[0m\u001b[0;34m\u001b[0m\u001b[0m\n\u001b[1;32m    276\u001b[0m                 \u001b[0mcolumns\u001b[0m\u001b[0;34m=\u001b[0m\u001b[0mcolumns\u001b[0m\u001b[0;34m,\u001b[0m\u001b[0;34m\u001b[0m\u001b[0;34m\u001b[0m\u001b[0m\n",
            "\u001b[0;32m/usr/local/lib/python3.11/dist-packages/pyarrow/parquet/core.py\u001b[0m in \u001b[0;36mread_table\u001b[0;34m(source, columns, use_threads, schema, use_pandas_metadata, read_dictionary, memory_map, buffer_size, partitioning, filesystem, filters, use_legacy_dataset, ignore_prefixes, pre_buffer, coerce_int96_timestamp_unit, decryption_properties, thrift_string_size_limit, thrift_container_size_limit, page_checksum_verification)\u001b[0m\n\u001b[1;32m   1791\u001b[0m \u001b[0;34m\u001b[0m\u001b[0m\n\u001b[1;32m   1792\u001b[0m     \u001b[0;32mtry\u001b[0m\u001b[0;34m:\u001b[0m\u001b[0;34m\u001b[0m\u001b[0;34m\u001b[0m\u001b[0m\n\u001b[0;32m-> 1793\u001b[0;31m         dataset = ParquetDataset(\n\u001b[0m\u001b[1;32m   1794\u001b[0m             \u001b[0msource\u001b[0m\u001b[0;34m,\u001b[0m\u001b[0;34m\u001b[0m\u001b[0;34m\u001b[0m\u001b[0m\n\u001b[1;32m   1795\u001b[0m             \u001b[0mschema\u001b[0m\u001b[0;34m=\u001b[0m\u001b[0mschema\u001b[0m\u001b[0;34m,\u001b[0m\u001b[0;34m\u001b[0m\u001b[0;34m\u001b[0m\u001b[0m\n",
            "\u001b[0;32m/usr/local/lib/python3.11/dist-packages/pyarrow/parquet/core.py\u001b[0m in \u001b[0;36m__init__\u001b[0;34m(self, path_or_paths, filesystem, schema, filters, read_dictionary, memory_map, buffer_size, partitioning, ignore_prefixes, pre_buffer, coerce_int96_timestamp_unit, decryption_properties, thrift_string_size_limit, thrift_container_size_limit, page_checksum_verification, use_legacy_dataset)\u001b[0m\n\u001b[1;32m   1358\u001b[0m \u001b[0;34m\u001b[0m\u001b[0m\n\u001b[1;32m   1359\u001b[0m             self._dataset = ds.FileSystemDataset(\n\u001b[0;32m-> 1360\u001b[0;31m                 \u001b[0;34m[\u001b[0m\u001b[0mfragment\u001b[0m\u001b[0;34m]\u001b[0m\u001b[0;34m,\u001b[0m \u001b[0mschema\u001b[0m\u001b[0;34m=\u001b[0m\u001b[0mschema\u001b[0m \u001b[0;32mor\u001b[0m \u001b[0mfragment\u001b[0m\u001b[0;34m.\u001b[0m\u001b[0mphysical_schema\u001b[0m\u001b[0;34m,\u001b[0m\u001b[0;34m\u001b[0m\u001b[0;34m\u001b[0m\u001b[0m\n\u001b[0m\u001b[1;32m   1361\u001b[0m                 \u001b[0mformat\u001b[0m\u001b[0;34m=\u001b[0m\u001b[0mparquet_format\u001b[0m\u001b[0;34m,\u001b[0m\u001b[0;34m\u001b[0m\u001b[0;34m\u001b[0m\u001b[0m\n\u001b[1;32m   1362\u001b[0m                 \u001b[0mfilesystem\u001b[0m\u001b[0;34m=\u001b[0m\u001b[0mfragment\u001b[0m\u001b[0;34m.\u001b[0m\u001b[0mfilesystem\u001b[0m\u001b[0;34m\u001b[0m\u001b[0;34m\u001b[0m\u001b[0m\n",
            "\u001b[0;32m/usr/local/lib/python3.11/dist-packages/pyarrow/_dataset.pyx\u001b[0m in \u001b[0;36mpyarrow._dataset.Fragment.physical_schema.__get__\u001b[0;34m()\u001b[0m\n",
            "\u001b[0;32m/usr/local/lib/python3.11/dist-packages/pyarrow/error.pxi\u001b[0m in \u001b[0;36mpyarrow.lib.pyarrow_internal_check_status\u001b[0;34m()\u001b[0m\n",
            "\u001b[0;32m/usr/local/lib/python3.11/dist-packages/pyarrow/error.pxi\u001b[0m in \u001b[0;36mpyarrow.lib.check_status\u001b[0;34m()\u001b[0m\n",
            "\u001b[0;31mArrowInvalid\u001b[0m: Could not open Parquet input source '<Buffer>': Parquet magic bytes not found in footer. Either the file is corrupted or this is not a parquet file."
          ]
        }
      ],
      "source": [
        "\n",
        "cols = ['tpep_pickup_datetime', 'tpep_dropoff_datetime',\n",
        "       'passenger_count', 'trip_distance', 'RatecodeID','PULocationID',\n",
        "        'DOLocationID', 'payment_type', 'total_amount']\n",
        "\n",
        "taxi_jan_2019 = pd.read_parquet('yellow_tripdata_2019-01.parquet', columns=cols)\n",
        "\n",
        "# To add new data in the future\n",
        "taxi_db = pd.concat([taxi_jan_2019])"
      ]
    },
    {
      "cell_type": "markdown",
      "source": [
        "# Data exploration"
      ],
      "metadata": {
        "id": "pyGiYeiiqrJD"
      },
      "id": "pyGiYeiiqrJD"
    },
    {
      "cell_type": "code",
      "execution_count": 7,
      "id": "9a81718d-344e-4d2d-9a7a-4509e837c16e",
      "metadata": {
        "editable": true,
        "tags": [],
        "id": "9a81718d-344e-4d2d-9a7a-4509e837c16e",
        "colab": {
          "base_uri": "https://localhost:8080/",
          "height": 147
        },
        "outputId": "b0fd0810-280d-4226-dc28-9396a0d09fab"
      },
      "outputs": [
        {
          "output_type": "error",
          "ename": "NameError",
          "evalue": "name 'taxi_db' is not defined",
          "traceback": [
            "\u001b[0;31m---------------------------------------------------------------------------\u001b[0m",
            "\u001b[0;31mNameError\u001b[0m                                 Traceback (most recent call last)",
            "\u001b[0;32m<ipython-input-7-aebda52b8900>\u001b[0m in \u001b[0;36m<cell line: 0>\u001b[0;34m()\u001b[0m\n\u001b[0;32m----> 1\u001b[0;31m \u001b[0mtaxi_db\u001b[0m\u001b[0;34m.\u001b[0m\u001b[0mhead\u001b[0m\u001b[0;34m(\u001b[0m\u001b[0;36m100_000\u001b[0m\u001b[0;34m)\u001b[0m\u001b[0;34m\u001b[0m\u001b[0;34m\u001b[0m\u001b[0m\n\u001b[0m",
            "\u001b[0;31mNameError\u001b[0m: name 'taxi_db' is not defined"
          ]
        }
      ],
      "source": [
        "taxi_db.head(100_000)"
      ]
    },
    {
      "cell_type": "code",
      "execution_count": null,
      "id": "e75ca52f-1137-4936-a488-461ed46498c1",
      "metadata": {
        "id": "e75ca52f-1137-4936-a488-461ed46498c1"
      },
      "outputs": [],
      "source": [
        "taxi_db.shape"
      ]
    },
    {
      "cell_type": "code",
      "execution_count": null,
      "id": "58a5636a-e90e-4933-a467-4ab4a7e461c4",
      "metadata": {
        "id": "58a5636a-e90e-4933-a467-4ab4a7e461c4"
      },
      "outputs": [],
      "source": [
        "taxi_db.hist(figsize=(20,10), bins=60)"
      ]
    },
    {
      "cell_type": "code",
      "execution_count": null,
      "id": "3f59b1ba-8779-4036-b6b9-48d4259caf0a",
      "metadata": {
        "editable": true,
        "tags": [],
        "id": "3f59b1ba-8779-4036-b6b9-48d4259caf0a"
      },
      "outputs": [],
      "source": [
        "taxi_db['RatecodeID'].value_counts()\n"
      ]
    },
    {
      "cell_type": "code",
      "execution_count": null,
      "id": "94070ba0-ef5a-4a94-bcba-3dead114aec4",
      "metadata": {
        "id": "94070ba0-ef5a-4a94-bcba-3dead114aec4"
      },
      "outputs": [],
      "source": [
        "taxi_db.reset_index().plot(kind='scatter', y='total_amount', x='index', figsize=(10,5))"
      ]
    },
    {
      "cell_type": "code",
      "execution_count": 8,
      "id": "fab6d1f0-b0a6-494e-ae9f-11cf76832a0c",
      "metadata": {
        "colab": {
          "base_uri": "https://localhost:8080/",
          "height": 166
        },
        "id": "fab6d1f0-b0a6-494e-ae9f-11cf76832a0c",
        "outputId": "c3546792-c7f9-41dc-8c53-073093a4f28b"
      },
      "outputs": [
        {
          "output_type": "error",
          "ename": "NameError",
          "evalue": "name 'taxi_db' is not defined",
          "traceback": [
            "\u001b[0;31m---------------------------------------------------------------------------\u001b[0m",
            "\u001b[0;31mNameError\u001b[0m                                 Traceback (most recent call last)",
            "\u001b[0;32m<ipython-input-8-1b9aefd7f9c8>\u001b[0m in \u001b[0;36m<cell line: 0>\u001b[0;34m()\u001b[0m\n\u001b[0;32m----> 1\u001b[0;31m \u001b[0mtaxi_db\u001b[0m\u001b[0;34m[\u001b[0m\u001b[0mtaxi_db\u001b[0m\u001b[0;34m[\u001b[0m\u001b[0;34m'total_amount'\u001b[0m\u001b[0;34m]\u001b[0m\u001b[0;34m<\u001b[0m\u001b[0;36m1000\u001b[0m\u001b[0;34m]\u001b[0m\u001b[0;34m.\u001b[0m\u001b[0mreset_index\u001b[0m\u001b[0;34m(\u001b[0m\u001b[0;34m)\u001b[0m\u001b[0;34m.\u001b[0m\u001b[0mplot\u001b[0m\u001b[0;34m(\u001b[0m\u001b[0mkind\u001b[0m\u001b[0;34m=\u001b[0m\u001b[0;34m'scatter'\u001b[0m\u001b[0;34m,\u001b[0m \u001b[0my\u001b[0m\u001b[0;34m=\u001b[0m\u001b[0;34m'total_amount'\u001b[0m\u001b[0;34m,\u001b[0m \u001b[0mx\u001b[0m\u001b[0;34m=\u001b[0m\u001b[0;34m'index'\u001b[0m\u001b[0;34m,\u001b[0m \u001b[0mfigsize\u001b[0m\u001b[0;34m=\u001b[0m\u001b[0;34m(\u001b[0m\u001b[0;36m10\u001b[0m\u001b[0;34m,\u001b[0m\u001b[0;36m6\u001b[0m\u001b[0;34m)\u001b[0m\u001b[0;34m)\u001b[0m\u001b[0;34m\u001b[0m\u001b[0;34m\u001b[0m\u001b[0m\n\u001b[0m",
            "\u001b[0;31mNameError\u001b[0m: name 'taxi_db' is not defined"
          ]
        }
      ],
      "source": [
        "taxi_db[taxi_db['total_amount']<1000].reset_index().plot(kind='scatter', y='total_amount', x='index', figsize=(10,6))"
      ]
    },
    {
      "cell_type": "code",
      "execution_count": null,
      "id": "8e4058cd-d462-4b15-a968-9a8ee18da7ce",
      "metadata": {
        "id": "8e4058cd-d462-4b15-a968-9a8ee18da7ce"
      },
      "outputs": [],
      "source": [
        "print(taxi_db[taxi_db['total_amount']<0].shape)\n",
        "taxi_db[taxi_db['total_amount']<0].reset_index().plot(figsize=(10,5) ,kind='scatter', y='total_amount', x='index')"
      ]
    },
    {
      "cell_type": "code",
      "execution_count": null,
      "id": "506509ca-06b6-4b52-8e21-234505271e6a",
      "metadata": {
        "id": "506509ca-06b6-4b52-8e21-234505271e6a"
      },
      "outputs": [],
      "source": [
        "taxi_db[taxi_db['total_amount']<0].head()"
      ]
    },
    {
      "cell_type": "code",
      "execution_count": null,
      "id": "8b63a13c-dbd7-4947-b396-295b800c9d94",
      "metadata": {
        "id": "8b63a13c-dbd7-4947-b396-295b800c9d94"
      },
      "outputs": [],
      "source": [
        "taxi_db[taxi_db['total_amount']<0]['payment_type'].value_counts()"
      ]
    },
    {
      "cell_type": "code",
      "execution_count": null,
      "id": "a034437c-99fc-4274-b4fb-692e03a1ca74",
      "metadata": {
        "id": "a034437c-99fc-4274-b4fb-692e03a1ca74"
      },
      "outputs": [],
      "source": [
        "taxi_db[taxi_db['total_amount']==0].shape\n",
        "taxi_db[taxi_db['total_amount']==0].head()"
      ]
    },
    {
      "cell_type": "code",
      "execution_count": 9,
      "id": "dd7df75c-4b45-42f8-8e2e-5f632873b4fa",
      "metadata": {
        "id": "dd7df75c-4b45-42f8-8e2e-5f632873b4fa",
        "colab": {
          "base_uri": "https://localhost:8080/",
          "height": 147
        },
        "outputId": "1d758cc1-ab5a-4c0e-8033-e2bed56f751c"
      },
      "outputs": [
        {
          "output_type": "error",
          "ename": "NameError",
          "evalue": "name 'taxi_db' is not defined",
          "traceback": [
            "\u001b[0;31m---------------------------------------------------------------------------\u001b[0m",
            "\u001b[0;31mNameError\u001b[0m                                 Traceback (most recent call last)",
            "\u001b[0;32m<ipython-input-9-a9b857fd4198>\u001b[0m in \u001b[0;36m<cell line: 0>\u001b[0;34m()\u001b[0m\n\u001b[0;32m----> 1\u001b[0;31m \u001b[0mtaxi_db_prepared\u001b[0m \u001b[0;34m=\u001b[0m \u001b[0mtaxi_db\u001b[0m\u001b[0;34m.\u001b[0m\u001b[0mcopy\u001b[0m\u001b[0;34m(\u001b[0m\u001b[0;34m)\u001b[0m\u001b[0;34m\u001b[0m\u001b[0;34m\u001b[0m\u001b[0m\n\u001b[0m",
            "\u001b[0;31mNameError\u001b[0m: name 'taxi_db' is not defined"
          ]
        }
      ],
      "source": [
        "taxi_db_prepared = taxi_db.copy()"
      ]
    },
    {
      "cell_type": "code",
      "execution_count": null,
      "id": "e83e428d-042d-4105-8bc0-fa6b9e7ba2d7",
      "metadata": {
        "id": "e83e428d-042d-4105-8bc0-fa6b9e7ba2d7"
      },
      "outputs": [],
      "source": [
        "taxi_db_prepared = taxi_db_prepared[(taxi_db_prepared['total_amount']>=0)&(taxi_db_prepared['total_amount']<2000)]\n",
        "taxi_db_prepared.dtypes"
      ]
    },
    {
      "cell_type": "code",
      "execution_count": null,
      "id": "af3d4b45-783a-414e-b7de-df49aeb7dc53",
      "metadata": {
        "id": "af3d4b45-783a-414e-b7de-df49aeb7dc53"
      },
      "outputs": [],
      "source": [
        "taxi_db_prepared['transiction_year'] = taxi_db_prepared['tpep_pickup_datetime'].dt.year\n",
        "taxi_db_prepared['transiction_month'] = taxi_db_prepared['tpep_pickup_datetime'].dt.month\n",
        "taxi_db_prepared['transiction_day'] = taxi_db_prepared['tpep_pickup_datetime'].dt.day\n",
        "taxi_db_prepared['transiction_hour'] = taxi_db_prepared['tpep_pickup_datetime'].dt.hour\n",
        "taxi_db_prepared['transiction_date'] = taxi_db_prepared['tpep_pickup_datetime'].dt.normalize()\n"
      ]
    },
    {
      "cell_type": "code",
      "execution_count": null,
      "id": "bb72ac9a-817e-47d9-b707-70ee6f6a7050",
      "metadata": {
        "id": "bb72ac9a-817e-47d9-b707-70ee6f6a7050"
      },
      "outputs": [],
      "source": [
        "taxi_db_prepared.head()"
      ]
    },
    {
      "cell_type": "code",
      "execution_count": 10,
      "id": "3b6d6b05-52ff-4080-a8dc-87af63f97ace",
      "metadata": {
        "colab": {
          "base_uri": "https://localhost:8080/",
          "height": 147
        },
        "id": "3b6d6b05-52ff-4080-a8dc-87af63f97ace",
        "outputId": "3462f21e-13be-4472-fead-64c5dad8bc71"
      },
      "outputs": [
        {
          "output_type": "error",
          "ename": "NameError",
          "evalue": "name 'taxi_db_prepared' is not defined",
          "traceback": [
            "\u001b[0;31m---------------------------------------------------------------------------\u001b[0m",
            "\u001b[0;31mNameError\u001b[0m                                 Traceback (most recent call last)",
            "\u001b[0;32m<ipython-input-10-ce7d7c0c2035>\u001b[0m in \u001b[0;36m<cell line: 0>\u001b[0;34m()\u001b[0m\n\u001b[0;32m----> 1\u001b[0;31m \u001b[0mtaxi_db_prepared\u001b[0m\u001b[0;34m.\u001b[0m\u001b[0msample\u001b[0m\u001b[0;34m(\u001b[0m\u001b[0;36m5000\u001b[0m\u001b[0;34m)\u001b[0m\u001b[0;34m.\u001b[0m\u001b[0mhist\u001b[0m\u001b[0;34m(\u001b[0m\u001b[0mfigsize\u001b[0m\u001b[0;34m=\u001b[0m\u001b[0;34m(\u001b[0m\u001b[0;36m20\u001b[0m\u001b[0;34m,\u001b[0m\u001b[0;36m10\u001b[0m\u001b[0;34m)\u001b[0m\u001b[0;34m,\u001b[0m \u001b[0mbins\u001b[0m \u001b[0;34m=\u001b[0m \u001b[0;36m60\u001b[0m\u001b[0;34m)\u001b[0m\u001b[0;34m\u001b[0m\u001b[0;34m\u001b[0m\u001b[0m\n\u001b[0m",
            "\u001b[0;31mNameError\u001b[0m: name 'taxi_db_prepared' is not defined"
          ]
        }
      ],
      "source": [
        "taxi_db_prepared.sample(5000).hist(figsize=(20,10), bins = 60)"
      ]
    },
    {
      "cell_type": "code",
      "execution_count": null,
      "id": "68ef2eb9-ef4a-408c-ac77-72ec8c45a73d",
      "metadata": {
        "id": "68ef2eb9-ef4a-408c-ac77-72ec8c45a73d"
      },
      "outputs": [],
      "source": [
        "taxi_db_prepared = taxi_db_prepared[taxi_db_prepared['transiction_year'] == 2019]\n",
        "taxi_db_prepared = taxi_db_prepared[taxi_db_prepared['transiction_month'] == 1]"
      ]
    },
    {
      "cell_type": "code",
      "execution_count": null,
      "id": "b3425cc1-df91-4d77-aa06-71a6bc2eae22",
      "metadata": {
        "id": "b3425cc1-df91-4d77-aa06-71a6bc2eae22"
      },
      "outputs": [],
      "source": [
        "taxi_db_prepared.head()\n"
      ]
    },
    {
      "cell_type": "code",
      "execution_count": null,
      "id": "a8824aea-feb9-4589-84b1-a7c0f9b7d3c3",
      "metadata": {
        "id": "a8824aea-feb9-4589-84b1-a7c0f9b7d3c3"
      },
      "outputs": [],
      "source": [
        "from sklearn.preprocessing import LabelEncoder\n",
        "\n",
        "categioral_columns = ['PULocationID', 'transiction_date','transiction_month','transiction_day','transiction_hour']\n",
        "numerical_columns = ['trip_distance']\n",
        "target = 'total_amount'\n",
        "df_encoded= taxi_db_prepared[categioral_columns + numerical_columns+[target]].copy()\n",
        "\n",
        "for col in categioral_columns:\n",
        "  le= LabelEncoder()\n",
        "  df_encoded[col] = le.fit_transform(df_encoded[col].astype(str))"
      ]
    },
    {
      "cell_type": "code",
      "execution_count": 11,
      "id": "3eb93cd7-2854-4134-9151-8b15d0f105f5",
      "metadata": {
        "colab": {
          "base_uri": "https://localhost:8080/",
          "height": 221
        },
        "id": "3eb93cd7-2854-4134-9151-8b15d0f105f5",
        "outputId": "c2524a2f-ae02-49af-ab14-308d5ae289e4"
      },
      "outputs": [
        {
          "output_type": "error",
          "ename": "NameError",
          "evalue": "name 'df_encoded' is not defined",
          "traceback": [
            "\u001b[0;31m---------------------------------------------------------------------------\u001b[0m",
            "\u001b[0;31mNameError\u001b[0m                                 Traceback (most recent call last)",
            "\u001b[0;32m<ipython-input-11-b429ad4ad55a>\u001b[0m in \u001b[0;36m<cell line: 0>\u001b[0;34m()\u001b[0m\n\u001b[0;32m----> 1\u001b[0;31m \u001b[0mtaxi_grouped_by_region\u001b[0m \u001b[0;34m=\u001b[0m \u001b[0mdf_encoded\u001b[0m\u001b[0;34m.\u001b[0m\u001b[0mgroupby\u001b[0m\u001b[0;34m(\u001b[0m\u001b[0mcategioral_columns\u001b[0m\u001b[0;34m)\u001b[0m\u001b[0;34m.\u001b[0m\u001b[0mmean\u001b[0m\u001b[0;34m(\u001b[0m\u001b[0;34m)\u001b[0m\u001b[0;34m.\u001b[0m\u001b[0mreset_index\u001b[0m\u001b[0;34m(\u001b[0m\u001b[0;34m)\u001b[0m\u001b[0;34m\u001b[0m\u001b[0;34m\u001b[0m\u001b[0m\n\u001b[0m\u001b[1;32m      2\u001b[0m \u001b[0mtaxi_grouped_by_region\u001b[0m\u001b[0;34m[\u001b[0m\u001b[0;34m'transiction_count'\u001b[0m\u001b[0;34m]\u001b[0m \u001b[0;34m=\u001b[0m \u001b[0mdf_encoded\u001b[0m\u001b[0;34m.\u001b[0m\u001b[0mgroupby\u001b[0m\u001b[0;34m(\u001b[0m\u001b[0mcategioral_columns\u001b[0m\u001b[0;34m)\u001b[0m\u001b[0;34m.\u001b[0m\u001b[0mcount\u001b[0m\u001b[0;34m(\u001b[0m\u001b[0;34m)\u001b[0m\u001b[0;34m.\u001b[0m\u001b[0mreset_index\u001b[0m\u001b[0;34m(\u001b[0m\u001b[0;34m)\u001b[0m\u001b[0;34m[\u001b[0m\u001b[0;34m'total_amount'\u001b[0m\u001b[0;34m]\u001b[0m\u001b[0;34m\u001b[0m\u001b[0;34m\u001b[0m\u001b[0m\n\u001b[1;32m      3\u001b[0m \u001b[0mprint\u001b[0m\u001b[0;34m(\u001b[0m\u001b[0mtaxi_grouped_by_region\u001b[0m\u001b[0;34m.\u001b[0m\u001b[0mshape\u001b[0m\u001b[0;34m)\u001b[0m\u001b[0;34m\u001b[0m\u001b[0;34m\u001b[0m\u001b[0m\n\u001b[1;32m      4\u001b[0m \u001b[0mtaxi_grouped_by_region\u001b[0m\u001b[0;34m.\u001b[0m\u001b[0mhead\u001b[0m\u001b[0;34m(\u001b[0m\u001b[0;34m)\u001b[0m\u001b[0;34m\u001b[0m\u001b[0;34m\u001b[0m\u001b[0m\n",
            "\u001b[0;31mNameError\u001b[0m: name 'df_encoded' is not defined"
          ]
        }
      ],
      "source": [
        "taxi_grouped_by_region = df_encoded.groupby(categioral_columns).mean().reset_index()\n",
        "taxi_grouped_by_region['transiction_count'] = df_encoded.groupby(categioral_columns).count().reset_index()['total_amount']\n",
        "print(taxi_grouped_by_region.shape)\n",
        "taxi_grouped_by_region.head()"
      ]
    },
    {
      "cell_type": "code",
      "execution_count": null,
      "id": "ad73f058-55ea-400a-9b6d-258a5355f2da",
      "metadata": {
        "id": "ad73f058-55ea-400a-9b6d-258a5355f2da"
      },
      "outputs": [],
      "source": [
        "taxi_grouped_by_region['total_amount'].hist(bins=100, figsize=(10,5))\n"
      ]
    },
    {
      "cell_type": "code",
      "execution_count": null,
      "id": "c0ba8c08-6819-4969-8ff8-2673fff48eee",
      "metadata": {
        "id": "c0ba8c08-6819-4969-8ff8-2673fff48eee"
      },
      "outputs": [],
      "source": [
        "taxi_grouped_by_region['trip_distance'].hist(bins=100, figsize=(10,5))"
      ]
    },
    {
      "cell_type": "code",
      "execution_count": null,
      "id": "8d835356-5095-4536-a3d2-6ebdfb9e64be",
      "metadata": {
        "id": "8d835356-5095-4536-a3d2-6ebdfb9e64be"
      },
      "outputs": [],
      "source": [
        "from sklearn.model_selection import train_test_split\n",
        "x = df_encoded[categioral_columns + numerical_columns]\n",
        "y = df_encoded[[target]]\n",
        "x_train, x_test, y_train, y_test = train_test_split(x, y, test_size=0.33, random_state=42)\n"
      ]
    },
    {
      "cell_type": "code",
      "execution_count": null,
      "id": "2ed61c3c-b930-486e-93b4-fa3ea78f4f50",
      "metadata": {
        "id": "2ed61c3c-b930-486e-93b4-fa3ea78f4f50"
      },
      "outputs": [],
      "source": []
    },
    {
      "cell_type": "code",
      "execution_count": null,
      "id": "d51a4dea-98be-4598-a911-9377758d9986",
      "metadata": {
        "id": "d51a4dea-98be-4598-a911-9377758d9986"
      },
      "outputs": [],
      "source": []
    },
    {
      "cell_type": "code",
      "execution_count": null,
      "id": "75643eaf-e1cd-4533-8dc8-3cf96abe745b",
      "metadata": {
        "id": "75643eaf-e1cd-4533-8dc8-3cf96abe745b"
      },
      "outputs": [],
      "source": []
    },
    {
      "cell_type": "code",
      "execution_count": null,
      "id": "35cae95d-36de-41bb-aa91-ada2f5f1fda2",
      "metadata": {
        "id": "35cae95d-36de-41bb-aa91-ada2f5f1fda2"
      },
      "outputs": [],
      "source": [
        "from sklearn.tree import DecisionTreeRegressor\n",
        "\n",
        "tree = DecisionTreeRegressor(max_depth=10)\n",
        "tree.fit(x_train,y_train)"
      ]
    },
    {
      "cell_type": "code",
      "execution_count": null,
      "id": "4aea565f-192f-4e1f-aebc-25825901e750",
      "metadata": {
        "id": "4aea565f-192f-4e1f-aebc-25825901e750"
      },
      "outputs": [],
      "source": [
        "model_at_hand = tree\n",
        "\n",
        "y_pred = model_at_hand.predict(x_test)\n",
        "\n",
        "from sklearn.metrics import mean_absolute_error\n",
        "from sklearn.metrics import mean_squared_error\n",
        "from sklearn.metrics import r2_score\n",
        "from math import sqrt\n",
        "\n",
        "print('mean_absolute_error',mean_absolute_error(y_test,y_pred))\n",
        "print('mean_squared_error',mean_squared_error(y_test,y_pred))\n",
        "print('sqrt',sqrt(mean_squared_error(y_test,y_pred)))\n",
        "print('r2_score',r2_score(y_test, y_pred))"
      ]
    },
    {
      "cell_type": "code",
      "execution_count": null,
      "id": "1ba9b7e1-1e1d-4221-ba3f-1e8ae4039b83",
      "metadata": {
        "id": "1ba9b7e1-1e1d-4221-ba3f-1e8ae4039b83"
      },
      "outputs": [],
      "source": [
        "from sklearn.model_selection import GridSearchCV\n",
        "\n",
        "params = {\n",
        "    \"max_depth\" :[5,10,15,20],\n",
        "    \"min_samples_leaf\" : [1,5,10]\n",
        "}\n",
        "\n",
        "grid = GridSearchCV(DecitionTreeRegressor(), param_grid=params, cv=3)"
      ]
    }
  ],
  "metadata": {
    "kernelspec": {
      "display_name": "Python 3 (ipykernel)",
      "language": "python",
      "name": "python3"
    },
    "language_info": {
      "codemirror_mode": {
        "name": "ipython",
        "version": 3
      },
      "file_extension": ".py",
      "mimetype": "text/x-python",
      "name": "python",
      "nbconvert_exporter": "python",
      "pygments_lexer": "ipython3",
      "version": "3.12.5"
    },
    "colab": {
      "provenance": []
    }
  },
  "nbformat": 4,
  "nbformat_minor": 5
}