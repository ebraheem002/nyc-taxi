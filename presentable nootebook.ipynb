{
  "cells": [
    {
      "cell_type": "markdown",
      "id": "62d1f3dd-01a3-4344-99d8-f6504ca47c4d",
      "metadata": {
        "id": "62d1f3dd-01a3-4344-99d8-f6504ca47c4d"
      },
      "source": [
        "# 1-import Data\n"
      ]
    },
    {
      "cell_type": "code",
      "execution_count": 4,
      "id": "4b213585-f60a-4e51-ac76-4d0dc92d8306",
      "metadata": {
        "editable": true,
        "tags": [],
        "id": "4b213585-f60a-4e51-ac76-4d0dc92d8306"
      },
      "outputs": [],
      "source": [
        "import pandas as pd"
      ]
    },
    {
      "cell_type": "code",
      "execution_count": 5,
      "id": "70f50e88-89ee-4f51-82a0-518870993fcb",
      "metadata": {
        "id": "70f50e88-89ee-4f51-82a0-518870993fcb"
      },
      "outputs": [],
      "source": [
        "\n",
        "cols = ['tpep_pickup_datetime', 'tpep_dropoff_datetime',\n",
        "       'passenger_count', 'trip_distance', 'RatecodeID','PULocationID',\n",
        "        'DOLocationID', 'payment_type', 'total_amount']\n",
        "\n",
        "taxi_jan_2019 = pd.read_parquet('/yellow_tripdata_2019-01.parquet', columns=cols)\n",
        "\n",
        "# To add new data in the future\n",
        "taxi_db = pd.concat([taxi_jan_2019])"
      ]
    },
    {
      "cell_type": "markdown",
      "source": [
        "# Data exploration"
      ],
      "metadata": {
        "id": "pyGiYeiiqrJD"
      },
      "id": "pyGiYeiiqrJD"
    },
    {
      "cell_type": "code",
      "execution_count": null,
      "id": "9a81718d-344e-4d2d-9a7a-4509e837c16e",
      "metadata": {
        "editable": true,
        "tags": [],
        "id": "9a81718d-344e-4d2d-9a7a-4509e837c16e"
      },
      "outputs": [],
      "source": [
        "taxi_db.head(100_000)"
      ]
    },
    {
      "cell_type": "code",
      "execution_count": null,
      "id": "e75ca52f-1137-4936-a488-461ed46498c1",
      "metadata": {
        "id": "e75ca52f-1137-4936-a488-461ed46498c1"
      },
      "outputs": [],
      "source": [
        "taxi_db.shape"
      ]
    },
    {
      "cell_type": "code",
      "execution_count": null,
      "id": "58a5636a-e90e-4933-a467-4ab4a7e461c4",
      "metadata": {
        "id": "58a5636a-e90e-4933-a467-4ab4a7e461c4"
      },
      "outputs": [],
      "source": [
        "taxi_db.hist(figsize=(20,10), bins=60)"
      ]
    },
    {
      "cell_type": "code",
      "execution_count": null,
      "id": "3f59b1ba-8779-4036-b6b9-48d4259caf0a",
      "metadata": {
        "editable": true,
        "tags": [],
        "id": "3f59b1ba-8779-4036-b6b9-48d4259caf0a"
      },
      "outputs": [],
      "source": [
        "taxi_db['RatecodeID'].value_counts()\n"
      ]
    },
    {
      "cell_type": "code",
      "execution_count": null,
      "id": "94070ba0-ef5a-4a94-bcba-3dead114aec4",
      "metadata": {
        "id": "94070ba0-ef5a-4a94-bcba-3dead114aec4"
      },
      "outputs": [],
      "source": [
        "taxi_db.reset_index().plot(kind='scatter', y='total_amount', x='index', figsize=(10,5))"
      ]
    },
    {
      "cell_type": "code",
      "execution_count": null,
      "id": "fab6d1f0-b0a6-494e-ae9f-11cf76832a0c",
      "metadata": {
        "id": "fab6d1f0-b0a6-494e-ae9f-11cf76832a0c"
      },
      "outputs": [],
      "source": [
        "taxi_db[taxi_db['total_amount']<1000].reset_index().plot(kind='scatter', y='total_amount', x='index', figsize=(10,6))"
      ]
    },
    {
      "cell_type": "code",
      "execution_count": null,
      "id": "8e4058cd-d462-4b15-a968-9a8ee18da7ce",
      "metadata": {
        "id": "8e4058cd-d462-4b15-a968-9a8ee18da7ce"
      },
      "outputs": [],
      "source": [
        "print(taxi_db[taxi_db['total_amount']<0].shape)\n",
        "taxi_db[taxi_db['total_amount']<0].reset_index().plot(figsize=(10,5) ,kind='scatter', y='total_amount', x='index')"
      ]
    },
    {
      "cell_type": "code",
      "execution_count": null,
      "id": "506509ca-06b6-4b52-8e21-234505271e6a",
      "metadata": {
        "id": "506509ca-06b6-4b52-8e21-234505271e6a"
      },
      "outputs": [],
      "source": [
        "taxi_db[taxi_db['total_amount']<0].head()"
      ]
    },
    {
      "cell_type": "code",
      "execution_count": null,
      "id": "8b63a13c-dbd7-4947-b396-295b800c9d94",
      "metadata": {
        "id": "8b63a13c-dbd7-4947-b396-295b800c9d94"
      },
      "outputs": [],
      "source": [
        "taxi_db[taxi_db['total_amount']<0]['payment_type'].value_counts()"
      ]
    },
    {
      "cell_type": "code",
      "execution_count": null,
      "id": "a034437c-99fc-4274-b4fb-692e03a1ca74",
      "metadata": {
        "id": "a034437c-99fc-4274-b4fb-692e03a1ca74"
      },
      "outputs": [],
      "source": [
        "taxi_db[taxi_db['total_amount']==0].shape\n",
        "taxi_db[taxi_db['total_amount']==0].head()"
      ]
    },
    {
      "cell_type": "code",
      "execution_count": null,
      "id": "dd7df75c-4b45-42f8-8e2e-5f632873b4fa",
      "metadata": {
        "id": "dd7df75c-4b45-42f8-8e2e-5f632873b4fa"
      },
      "outputs": [],
      "source": [
        "taxi_db_prepared = taxi_db.copy()"
      ]
    },
    {
      "cell_type": "code",
      "execution_count": null,
      "id": "e83e428d-042d-4105-8bc0-fa6b9e7ba2d7",
      "metadata": {
        "id": "e83e428d-042d-4105-8bc0-fa6b9e7ba2d7"
      },
      "outputs": [],
      "source": [
        "taxi_db_prepared = taxi_db_prepared[(taxi_db_prepared['total_amount']>=0)&(taxi_db_prepared['total_amount']<2000)]\n",
        "taxi_db_prepared.dtypes"
      ]
    },
    {
      "cell_type": "code",
      "execution_count": null,
      "id": "af3d4b45-783a-414e-b7de-df49aeb7dc53",
      "metadata": {
        "id": "af3d4b45-783a-414e-b7de-df49aeb7dc53"
      },
      "outputs": [],
      "source": [
        "taxi_db_prepared['transiction_year'] = taxi_db_prepared['tpep_pickup_datetime'].dt.year\n",
        "taxi_db_prepared['transiction_month'] = taxi_db_prepared['tpep_pickup_datetime'].dt.month\n",
        "taxi_db_prepared['transiction_day'] = taxi_db_prepared['tpep_pickup_datetime'].dt.day\n",
        "taxi_db_prepared['transiction_hour'] = taxi_db_prepared['tpep_pickup_datetime'].dt.hour\n",
        "taxi_db_prepared['transiction_date'] = taxi_db_prepared['tpep_pickup_datetime'].dt.normalize()\n"
      ]
    },
    {
      "cell_type": "code",
      "execution_count": null,
      "id": "bb72ac9a-817e-47d9-b707-70ee6f6a7050",
      "metadata": {
        "id": "bb72ac9a-817e-47d9-b707-70ee6f6a7050"
      },
      "outputs": [],
      "source": [
        "taxi_db_prepared.head()"
      ]
    },
    {
      "cell_type": "code",
      "execution_count": null,
      "id": "3b6d6b05-52ff-4080-a8dc-87af63f97ace",
      "metadata": {
        "id": "3b6d6b05-52ff-4080-a8dc-87af63f97ace"
      },
      "outputs": [],
      "source": [
        "taxi_db_prepared.sample(5000).hist(figsize=(20,10), bins = 60)"
      ]
    },
    {
      "cell_type": "code",
      "execution_count": null,
      "id": "68ef2eb9-ef4a-408c-ac77-72ec8c45a73d",
      "metadata": {
        "id": "68ef2eb9-ef4a-408c-ac77-72ec8c45a73d"
      },
      "outputs": [],
      "source": [
        "taxi_db_prepared = taxi_db_prepared[taxi_db_prepared['transiction_year'] == 2019]\n",
        "taxi_db_prepared = taxi_db_prepared[taxi_db_prepared['transiction_month'] == 1]"
      ]
    },
    {
      "cell_type": "code",
      "execution_count": null,
      "id": "b3425cc1-df91-4d77-aa06-71a6bc2eae22",
      "metadata": {
        "id": "b3425cc1-df91-4d77-aa06-71a6bc2eae22"
      },
      "outputs": [],
      "source": [
        "taxi_db_prepared.head()\n"
      ]
    },
    {
      "cell_type": "code",
      "execution_count": null,
      "id": "a8824aea-feb9-4589-84b1-a7c0f9b7d3c3",
      "metadata": {
        "id": "a8824aea-feb9-4589-84b1-a7c0f9b7d3c3"
      },
      "outputs": [],
      "source": [
        "from sklearn.preprocessing import LabelEncoder\n",
        "\n",
        "categioral_columns = ['PULocationID', 'transiction_date','transiction_month','transiction_day','transiction_hour']\n",
        "numerical_columns = ['trip_distance']\n",
        "target = 'total_amount'\n",
        "df_encoded= taxi_db_prepared[categioral_columns + numerical_columns+[target]].copy()\n",
        "\n",
        "for col in categioral_columns:\n",
        "  le= LabelEncoder()\n",
        "  df_encoded[col] = le.fit_transform(df_encoded[col].astype(str))"
      ]
    },
    {
      "cell_type": "code",
      "execution_count": null,
      "id": "3eb93cd7-2854-4134-9151-8b15d0f105f5",
      "metadata": {
        "id": "3eb93cd7-2854-4134-9151-8b15d0f105f5"
      },
      "outputs": [],
      "source": [
        "taxi_grouped_by_region = df_encoded.groupby(categioral_columns).mean().reset_index()\n",
        "taxi_grouped_by_region['transiction_count'] = df_encoded.groupby(categioral_columns).count().reset_index()['total_amount']\n",
        "print(taxi_grouped_by_region.shape)\n",
        "taxi_grouped_by_region.head()"
      ]
    },
    {
      "cell_type": "code",
      "execution_count": null,
      "id": "ad73f058-55ea-400a-9b6d-258a5355f2da",
      "metadata": {
        "id": "ad73f058-55ea-400a-9b6d-258a5355f2da"
      },
      "outputs": [],
      "source": [
        "taxi_grouped_by_region['total_amount'].hist(bins=100, figsize=(10,5))\n"
      ]
    },
    {
      "cell_type": "code",
      "execution_count": null,
      "id": "c0ba8c08-6819-4969-8ff8-2673fff48eee",
      "metadata": {
        "id": "c0ba8c08-6819-4969-8ff8-2673fff48eee"
      },
      "outputs": [],
      "source": [
        "taxi_grouped_by_region['trip_distance'].hist(bins=100, figsize=(10,5))"
      ]
    },
    {
      "cell_type": "code",
      "execution_count": null,
      "id": "8d835356-5095-4536-a3d2-6ebdfb9e64be",
      "metadata": {
        "id": "8d835356-5095-4536-a3d2-6ebdfb9e64be"
      },
      "outputs": [],
      "source": [
        "from sklearn.model_selection import train_test_split\n",
        "x = df_encoded[categioral_columns + numerical_columns]\n",
        "y = df_encoded[[target]]\n",
        "x_train, x_test, y_train, y_test = train_test_split(x, y, test_size=0.33, random_state=42)\n"
      ]
    },
    {
      "cell_type": "code",
      "execution_count": null,
      "id": "35cae95d-36de-41bb-aa91-ada2f5f1fda2",
      "metadata": {
        "id": "35cae95d-36de-41bb-aa91-ada2f5f1fda2"
      },
      "outputs": [],
      "source": [
        "from sklearn.tree import DecisionTreeRegressor\n",
        "\n",
        "tree = DecisionTreeRegressor(max_depth=15, min_samples_leaf=10)\n",
        "tree.fit(x_train,y_train)"
      ]
    },
    {
      "cell_type": "code",
      "execution_count": null,
      "id": "4aea565f-192f-4e1f-aebc-25825901e750",
      "metadata": {
        "id": "4aea565f-192f-4e1f-aebc-25825901e750"
      },
      "outputs": [],
      "source": [
        "model_at_hand = tree\n",
        "\n",
        "y_pred = model_at_hand.predict(x_test)\n",
        "\n",
        "from sklearn.metrics import mean_absolute_error\n",
        "from sklearn.metrics import mean_squared_error\n",
        "from sklearn.metrics import r2_score\n",
        "from math import sqrt\n",
        "\n",
        "print('mean_absolute_error',mean_absolute_error(y_test,y_pred))\n",
        "print('mean_squared_error',mean_squared_error(y_test,y_pred))\n",
        "print('sqrt',sqrt(mean_squared_error(y_test,y_pred)))\n",
        "print('r2_score',r2_score(y_test, y_pred))"
      ]
    },
    {
      "cell_type": "code",
      "execution_count": null,
      "id": "1ba9b7e1-1e1d-4221-ba3f-1e8ae4039b83",
      "metadata": {
        "id": "1ba9b7e1-1e1d-4221-ba3f-1e8ae4039b83"
      },
      "outputs": [],
      "source": [
        "# from sklearn.model_selection import GridSearchCV\n",
        "\n",
        "# params = {\n",
        "#     \"max_depth\" :[5,10,15,20],\n",
        "#     \"min_samples_leaf\" : [1,5,10]\n",
        "# }\n",
        "\n",
        "# grid = GridSearchCV(DecisionTreeRegressor(), param_grid=params, cv=3)\n",
        "# grid.fit(x_train,y_train)\n",
        "\n",
        "# print(\"Best parameters:\", grid.best_params_)"
      ]
    },
    {
      "cell_type": "code",
      "source": [
        "from sklearn.ensemble import RandomForestRegressor\n",
        "\n",
        "rf = RandomForestRegressor(max_depth=15, n_estimators=100, random_state=42)\n",
        "rf.fit(x_train,y_train)\n",
        "\n",
        "y_pred_rf = rf.predict(x_test)\n",
        "\n",
        "print(r2_score(y_test, y_pred_rf))"
      ],
      "metadata": {
        "id": "Ms4pR32_7wAl"
      },
      "id": "Ms4pR32_7wAl",
      "execution_count": null,
      "outputs": []
    }
  ],
  "metadata": {
    "kernelspec": {
      "display_name": "Python 3 (ipykernel)",
      "language": "python",
      "name": "python3"
    },
    "language_info": {
      "codemirror_mode": {
        "name": "ipython",
        "version": 3
      },
      "file_extension": ".py",
      "mimetype": "text/x-python",
      "name": "python",
      "nbconvert_exporter": "python",
      "pygments_lexer": "ipython3",
      "version": "3.12.5"
    },
    "colab": {
      "provenance": []
    }
  },
  "nbformat": 4,
  "nbformat_minor": 5
}