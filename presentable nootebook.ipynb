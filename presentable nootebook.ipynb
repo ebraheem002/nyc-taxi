{
  "cells": [
    {
      "cell_type": "code",
      "execution_count": 1,
      "id": "4b213585-f60a-4e51-ac76-4d0dc92d8306",
      "metadata": {
        "editable": true,
        "tags": [],
        "id": "4b213585-f60a-4e51-ac76-4d0dc92d8306"
      },
      "outputs": [],
      "source": [
        "import pandas as pd"
      ]
    },
    {
      "cell_type": "code",
      "execution_count": 1,
      "id": "f1c7c5bb-e162-400a-8d99-c90c541fe8ec",
      "metadata": {
        "id": "f1c7c5bb-e162-400a-8d99-c90c541fe8ec"
      },
      "outputs": [],
      "source": []
    },
    {
      "cell_type": "markdown",
      "id": "62d1f3dd-01a3-4344-99d8-f6504ca47c4d",
      "metadata": {
        "id": "62d1f3dd-01a3-4344-99d8-f6504ca47c4d"
      },
      "source": [
        "# 1-import Data\n"
      ]
    },
    {
      "cell_type": "markdown",
      "id": "9e93c099-45d7-401c-90fa-111de82f5d3f",
      "metadata": {
        "id": "9e93c099-45d7-401c-90fa-111de82f5d3f"
      },
      "source": [
        "    ### -use concat to add the new data from other months in the future\n"
      ]
    },
    {
      "cell_type": "code",
      "execution_count": 2,
      "id": "70f50e88-89ee-4f51-82a0-518870993fcb",
      "metadata": {
        "id": "70f50e88-89ee-4f51-82a0-518870993fcb",
        "outputId": "9b7a6329-971f-4ab0-a7da-7b0af68cf2a1",
        "colab": {
          "base_uri": "https://localhost:8080/",
          "height": 336
        }
      },
      "outputs": [
        {
          "output_type": "error",
          "ename": "FileNotFoundError",
          "evalue": "[Errno 2] No such file or directory: 'data/yellow_tripdata_2019-01.parquet'",
          "traceback": [
            "\u001b[0;31m---------------------------------------------------------------------------\u001b[0m",
            "\u001b[0;31mFileNotFoundError\u001b[0m                         Traceback (most recent call last)",
            "\u001b[0;32m<ipython-input-2-a7f0b8001eab>\u001b[0m in \u001b[0;36m<cell line: 0>\u001b[0;34m()\u001b[0m\n\u001b[0;32m----> 1\u001b[0;31m \u001b[0mtaxi_jan_2019\u001b[0m \u001b[0;34m=\u001b[0m \u001b[0mpd\u001b[0m\u001b[0;34m.\u001b[0m\u001b[0mread_parquet\u001b[0m\u001b[0;34m(\u001b[0m\u001b[0;34m'data/yellow_tripdata_2019-01.parquet'\u001b[0m\u001b[0;34m)\u001b[0m\u001b[0;34m\u001b[0m\u001b[0;34m\u001b[0m\u001b[0m\n\u001b[0m\u001b[1;32m      2\u001b[0m \u001b[0mtaxi_db\u001b[0m \u001b[0;34m=\u001b[0m \u001b[0mpd\u001b[0m\u001b[0;34m.\u001b[0m\u001b[0mconcat\u001b[0m\u001b[0;34m(\u001b[0m\u001b[0;34m[\u001b[0m\u001b[0mtaxi_jan_2019\u001b[0m\u001b[0;34m]\u001b[0m\u001b[0;34m)\u001b[0m\u001b[0;34m\u001b[0m\u001b[0;34m\u001b[0m\u001b[0m\n",
            "\u001b[0;32m/usr/local/lib/python3.11/dist-packages/pandas/io/parquet.py\u001b[0m in \u001b[0;36mread_parquet\u001b[0;34m(path, engine, columns, storage_options, use_nullable_dtypes, dtype_backend, filesystem, filters, **kwargs)\u001b[0m\n\u001b[1;32m    665\u001b[0m     \u001b[0mcheck_dtype_backend\u001b[0m\u001b[0;34m(\u001b[0m\u001b[0mdtype_backend\u001b[0m\u001b[0;34m)\u001b[0m\u001b[0;34m\u001b[0m\u001b[0;34m\u001b[0m\u001b[0m\n\u001b[1;32m    666\u001b[0m \u001b[0;34m\u001b[0m\u001b[0m\n\u001b[0;32m--> 667\u001b[0;31m     return impl.read(\n\u001b[0m\u001b[1;32m    668\u001b[0m         \u001b[0mpath\u001b[0m\u001b[0;34m,\u001b[0m\u001b[0;34m\u001b[0m\u001b[0;34m\u001b[0m\u001b[0m\n\u001b[1;32m    669\u001b[0m         \u001b[0mcolumns\u001b[0m\u001b[0;34m=\u001b[0m\u001b[0mcolumns\u001b[0m\u001b[0;34m,\u001b[0m\u001b[0;34m\u001b[0m\u001b[0;34m\u001b[0m\u001b[0m\n",
            "\u001b[0;32m/usr/local/lib/python3.11/dist-packages/pandas/io/parquet.py\u001b[0m in \u001b[0;36mread\u001b[0;34m(self, path, columns, filters, use_nullable_dtypes, dtype_backend, storage_options, filesystem, **kwargs)\u001b[0m\n\u001b[1;32m    265\u001b[0m             \u001b[0mto_pandas_kwargs\u001b[0m\u001b[0;34m[\u001b[0m\u001b[0;34m\"split_blocks\"\u001b[0m\u001b[0;34m]\u001b[0m \u001b[0;34m=\u001b[0m \u001b[0;32mTrue\u001b[0m  \u001b[0;31m# type: ignore[assignment]\u001b[0m\u001b[0;34m\u001b[0m\u001b[0;34m\u001b[0m\u001b[0m\n\u001b[1;32m    266\u001b[0m \u001b[0;34m\u001b[0m\u001b[0m\n\u001b[0;32m--> 267\u001b[0;31m         path_or_handle, handles, filesystem = _get_path_or_handle(\n\u001b[0m\u001b[1;32m    268\u001b[0m             \u001b[0mpath\u001b[0m\u001b[0;34m,\u001b[0m\u001b[0;34m\u001b[0m\u001b[0;34m\u001b[0m\u001b[0m\n\u001b[1;32m    269\u001b[0m             \u001b[0mfilesystem\u001b[0m\u001b[0;34m,\u001b[0m\u001b[0;34m\u001b[0m\u001b[0;34m\u001b[0m\u001b[0m\n",
            "\u001b[0;32m/usr/local/lib/python3.11/dist-packages/pandas/io/parquet.py\u001b[0m in \u001b[0;36m_get_path_or_handle\u001b[0;34m(path, fs, storage_options, mode, is_dir)\u001b[0m\n\u001b[1;32m    138\u001b[0m         \u001b[0;31m# fsspec resources can also point to directories\u001b[0m\u001b[0;34m\u001b[0m\u001b[0;34m\u001b[0m\u001b[0m\n\u001b[1;32m    139\u001b[0m         \u001b[0;31m# this branch is used for example when reading from non-fsspec URLs\u001b[0m\u001b[0;34m\u001b[0m\u001b[0;34m\u001b[0m\u001b[0m\n\u001b[0;32m--> 140\u001b[0;31m         handles = get_handle(\n\u001b[0m\u001b[1;32m    141\u001b[0m             \u001b[0mpath_or_handle\u001b[0m\u001b[0;34m,\u001b[0m \u001b[0mmode\u001b[0m\u001b[0;34m,\u001b[0m \u001b[0mis_text\u001b[0m\u001b[0;34m=\u001b[0m\u001b[0;32mFalse\u001b[0m\u001b[0;34m,\u001b[0m \u001b[0mstorage_options\u001b[0m\u001b[0;34m=\u001b[0m\u001b[0mstorage_options\u001b[0m\u001b[0;34m\u001b[0m\u001b[0;34m\u001b[0m\u001b[0m\n\u001b[1;32m    142\u001b[0m         )\n",
            "\u001b[0;32m/usr/local/lib/python3.11/dist-packages/pandas/io/common.py\u001b[0m in \u001b[0;36mget_handle\u001b[0;34m(path_or_buf, mode, encoding, compression, memory_map, is_text, errors, storage_options)\u001b[0m\n\u001b[1;32m    880\u001b[0m         \u001b[0;32melse\u001b[0m\u001b[0;34m:\u001b[0m\u001b[0;34m\u001b[0m\u001b[0;34m\u001b[0m\u001b[0m\n\u001b[1;32m    881\u001b[0m             \u001b[0;31m# Binary mode\u001b[0m\u001b[0;34m\u001b[0m\u001b[0;34m\u001b[0m\u001b[0m\n\u001b[0;32m--> 882\u001b[0;31m             \u001b[0mhandle\u001b[0m \u001b[0;34m=\u001b[0m \u001b[0mopen\u001b[0m\u001b[0;34m(\u001b[0m\u001b[0mhandle\u001b[0m\u001b[0;34m,\u001b[0m \u001b[0mioargs\u001b[0m\u001b[0;34m.\u001b[0m\u001b[0mmode\u001b[0m\u001b[0;34m)\u001b[0m\u001b[0;34m\u001b[0m\u001b[0;34m\u001b[0m\u001b[0m\n\u001b[0m\u001b[1;32m    883\u001b[0m         \u001b[0mhandles\u001b[0m\u001b[0;34m.\u001b[0m\u001b[0mappend\u001b[0m\u001b[0;34m(\u001b[0m\u001b[0mhandle\u001b[0m\u001b[0;34m)\u001b[0m\u001b[0;34m\u001b[0m\u001b[0;34m\u001b[0m\u001b[0m\n\u001b[1;32m    884\u001b[0m \u001b[0;34m\u001b[0m\u001b[0m\n",
            "\u001b[0;31mFileNotFoundError\u001b[0m: [Errno 2] No such file or directory: 'data/yellow_tripdata_2019-01.parquet'"
          ]
        }
      ],
      "source": [
        "taxi_jan_2019 = pd.read_parquet('/content/yellow_tripdata_2019-01.parquet')\n",
        "taxi_db = pd.concat([taxi_jan_2019])"
      ]
    },
    {
      "cell_type": "code",
      "execution_count": null,
      "id": "9a81718d-344e-4d2d-9a7a-4509e837c16e",
      "metadata": {
        "editable": true,
        "tags": [],
        "id": "9a81718d-344e-4d2d-9a7a-4509e837c16e"
      },
      "outputs": [],
      "source": [
        "taxi_db.head()"
      ]
    },
    {
      "cell_type": "markdown",
      "id": "4ed9e135-08dd-4029-8661-825e78b28ca9",
      "metadata": {
        "id": "4ed9e135-08dd-4029-8661-825e78b28ca9"
      },
      "source": [
        "Take a look"
      ]
    },
    {
      "cell_type": "code",
      "execution_count": null,
      "id": "e75ca52f-1137-4936-a488-461ed46498c1",
      "metadata": {
        "id": "e75ca52f-1137-4936-a488-461ed46498c1"
      },
      "outputs": [],
      "source": [
        "taxi_db.shape"
      ]
    },
    {
      "cell_type": "markdown",
      "id": "d2338280-1639-4b95-b261-678b213aefda",
      "metadata": {
        "id": "d2338280-1639-4b95-b261-678b213aefda"
      },
      "source": [
        "# 2-Data exporation"
      ]
    },
    {
      "cell_type": "code",
      "execution_count": null,
      "id": "0bc45562-9aeb-42dc-9c3b-46728816f618",
      "metadata": {
        "id": "0bc45562-9aeb-42dc-9c3b-46728816f618"
      },
      "outputs": [],
      "source": [
        "taxi_db.columns"
      ]
    },
    {
      "cell_type": "code",
      "execution_count": null,
      "id": "13382e1b-aeea-46b4-a5e9-f3772b30c5bb",
      "metadata": {
        "id": "13382e1b-aeea-46b4-a5e9-f3772b30c5bb"
      },
      "outputs": [],
      "source": [
        "taxi_db = taxi_db[['tpep_pickup_datetime', 'tpep_dropoff_datetime',\n",
        "       'passenger_count', 'trip_distance', 'RatecodeID','PULocationID',\n",
        "        'DOLocationID', 'payment_type', 'total_amount']]"
      ]
    },
    {
      "cell_type": "code",
      "execution_count": null,
      "id": "6a706a35-0e1a-4913-b1fc-a71fd6ad5d43",
      "metadata": {
        "id": "6a706a35-0e1a-4913-b1fc-a71fd6ad5d43"
      },
      "outputs": [],
      "source": [
        "taxi_db.head()"
      ]
    },
    {
      "cell_type": "code",
      "execution_count": null,
      "id": "aa023d6e-4012-45ff-bdaa-857f6f64f9c9",
      "metadata": {
        "id": "aa023d6e-4012-45ff-bdaa-857f6f64f9c9"
      },
      "outputs": [],
      "source": [
        "taxi_db.shape"
      ]
    },
    {
      "cell_type": "code",
      "execution_count": null,
      "id": "58a5636a-e90e-4933-a467-4ab4a7e461c4",
      "metadata": {
        "id": "58a5636a-e90e-4933-a467-4ab4a7e461c4"
      },
      "outputs": [],
      "source": [
        "taxi_db.hist(figsize=(20,10), bins=60)"
      ]
    },
    {
      "cell_type": "code",
      "execution_count": null,
      "id": "3f59b1ba-8779-4036-b6b9-48d4259caf0a",
      "metadata": {
        "editable": true,
        "tags": [],
        "id": "3f59b1ba-8779-4036-b6b9-48d4259caf0a"
      },
      "outputs": [],
      "source": [
        "taxi_db['RatecodeID'].value_counts()\n"
      ]
    },
    {
      "cell_type": "code",
      "execution_count": null,
      "id": "94070ba0-ef5a-4a94-bcba-3dead114aec4",
      "metadata": {
        "id": "94070ba0-ef5a-4a94-bcba-3dead114aec4"
      },
      "outputs": [],
      "source": [
        "#taxi_db.reset_index().plot(kind='scatter', y='total_amount', x='index', figsize=(10,5))"
      ]
    },
    {
      "cell_type": "code",
      "execution_count": null,
      "id": "fab6d1f0-b0a6-494e-ae9f-11cf76832a0c",
      "metadata": {
        "id": "fab6d1f0-b0a6-494e-ae9f-11cf76832a0c"
      },
      "outputs": [],
      "source": [
        "#taxi_db[taxi_db['total_amount']<1000].reset_index().plot(kind='scatter', y='total_amount', x='index', figsize=(10,6))"
      ]
    },
    {
      "cell_type": "code",
      "execution_count": null,
      "id": "8e4058cd-d462-4b15-a968-9a8ee18da7ce",
      "metadata": {
        "id": "8e4058cd-d462-4b15-a968-9a8ee18da7ce"
      },
      "outputs": [],
      "source": [
        "print(taxi_db[taxi_db['total_amount']<0].shape)\n",
        "#taxi_db[taxi_db['total_amount']<0].reset_index().plot(figsize=(10,5) ,kind='scatter', y='total_amount', x='index')"
      ]
    },
    {
      "cell_type": "code",
      "execution_count": null,
      "id": "506509ca-06b6-4b52-8e21-234505271e6a",
      "metadata": {
        "id": "506509ca-06b6-4b52-8e21-234505271e6a"
      },
      "outputs": [],
      "source": [
        "taxi_db[taxi_db['total_amount']<0].head()"
      ]
    },
    {
      "cell_type": "code",
      "execution_count": null,
      "id": "8b63a13c-dbd7-4947-b396-295b800c9d94",
      "metadata": {
        "id": "8b63a13c-dbd7-4947-b396-295b800c9d94"
      },
      "outputs": [],
      "source": [
        "taxi_db[taxi_db['total_amount']<0]['payment_type'].value_counts()"
      ]
    },
    {
      "cell_type": "code",
      "execution_count": null,
      "id": "a034437c-99fc-4274-b4fb-692e03a1ca74",
      "metadata": {
        "id": "a034437c-99fc-4274-b4fb-692e03a1ca74"
      },
      "outputs": [],
      "source": [
        "taxi_db[taxi_db['total_amount']==0].shape\n",
        "taxi_db[taxi_db['total_amount']==0].head()"
      ]
    },
    {
      "cell_type": "code",
      "execution_count": null,
      "id": "dd7df75c-4b45-42f8-8e2e-5f632873b4fa",
      "metadata": {
        "id": "dd7df75c-4b45-42f8-8e2e-5f632873b4fa"
      },
      "outputs": [],
      "source": [
        "taxi_db_prepared = taxi_db.copy()"
      ]
    },
    {
      "cell_type": "code",
      "execution_count": null,
      "id": "e83e428d-042d-4105-8bc0-fa6b9e7ba2d7",
      "metadata": {
        "id": "e83e428d-042d-4105-8bc0-fa6b9e7ba2d7"
      },
      "outputs": [],
      "source": [
        "taxi_db_prepared = taxi_db_prepared[(taxi_db_prepared['total_amount']>=0)&(taxi_db_prepared['total_amount']<2000)]\n",
        "taxi_db_prepared.dtypes"
      ]
    },
    {
      "cell_type": "code",
      "execution_count": null,
      "id": "af3d4b45-783a-414e-b7de-df49aeb7dc53",
      "metadata": {
        "id": "af3d4b45-783a-414e-b7de-df49aeb7dc53"
      },
      "outputs": [],
      "source": [
        "taxi_db_prepared['transiction_date'] = pd.to_datetime(taxi_db_prepared['tpep_pickup_datetime'].dt.date)\n",
        "taxi_db_prepared['transiction_year'] = taxi_db_prepared['tpep_pickup_datetime'].dt.year\n",
        "taxi_db_prepared['transiction_month'] = taxi_db_prepared['tpep_pickup_datetime'].dt.month\n",
        "taxi_db_prepared['transiction_day'] = taxi_db_prepared['tpep_pickup_datetime'].dt.day\n",
        "taxi_db_prepared['transiction_hour'] = taxi_db_prepared['tpep_pickup_datetime'].dt.hour"
      ]
    },
    {
      "cell_type": "code",
      "execution_count": null,
      "id": "bb72ac9a-817e-47d9-b707-70ee6f6a7050",
      "metadata": {
        "id": "bb72ac9a-817e-47d9-b707-70ee6f6a7050"
      },
      "outputs": [],
      "source": [
        "taxi_db_prepared.head()"
      ]
    },
    {
      "cell_type": "code",
      "execution_count": null,
      "id": "3b6d6b05-52ff-4080-a8dc-87af63f97ace",
      "metadata": {
        "id": "3b6d6b05-52ff-4080-a8dc-87af63f97ace"
      },
      "outputs": [],
      "source": [
        "#taxi_db_prepared.hist(figsize=(20,10), bins = 60)"
      ]
    },
    {
      "cell_type": "code",
      "execution_count": null,
      "id": "68ef2eb9-ef4a-408c-ac77-72ec8c45a73d",
      "metadata": {
        "id": "68ef2eb9-ef4a-408c-ac77-72ec8c45a73d"
      },
      "outputs": [],
      "source": [
        "taxi_db_prepared = taxi_db_prepared[taxi_db_prepared['transiction_year'] == 2019]\n",
        "taxi_db_prepared = taxi_db_prepared[taxi_db_prepared['transiction_month'] == 1]"
      ]
    },
    {
      "cell_type": "code",
      "execution_count": null,
      "id": "b3425cc1-df91-4d77-aa06-71a6bc2eae22",
      "metadata": {
        "id": "b3425cc1-df91-4d77-aa06-71a6bc2eae22"
      },
      "outputs": [],
      "source": [
        "taxi_db_prepared.head()\n"
      ]
    },
    {
      "cell_type": "code",
      "execution_count": null,
      "id": "a8824aea-feb9-4589-84b1-a7c0f9b7d3c3",
      "metadata": {
        "id": "a8824aea-feb9-4589-84b1-a7c0f9b7d3c3"
      },
      "outputs": [],
      "source": [
        "categioral_columns = ['PULocationID', 'transiction_date','transiction_month','transiction_day','transiction_hour']\n",
        "numerical_columns = ['trip_distance','total_amount']\n",
        "all_needed_columns = categioral_columns + numerical_columns\n",
        "\n"
      ]
    },
    {
      "cell_type": "code",
      "execution_count": null,
      "id": "c8bffc04-1e21-401b-8b3c-043b6acc90a1",
      "metadata": {
        "id": "c8bffc04-1e21-401b-8b3c-043b6acc90a1"
      },
      "outputs": [],
      "source": [
        "main_taxi_db = taxi_db_prepared[all_needed_columns]\n",
        "print(main_taxi_db.shape)\n",
        "main_taxi_db.head()"
      ]
    },
    {
      "cell_type": "code",
      "execution_count": null,
      "id": "3eb93cd7-2854-4134-9151-8b15d0f105f5",
      "metadata": {
        "id": "3eb93cd7-2854-4134-9151-8b15d0f105f5"
      },
      "outputs": [],
      "source": [
        "taxi_grouped_by_region = main_taxi_db.groupby(categioral_columns).mean().reset_index()\n",
        "taxi_grouped_by_region['transiction_count'] = main_taxi_db.groupby(categioral_columns).count().reset_index()['total_amount']\n",
        "print(taxi_grouped_by_region.shape)\n",
        "taxi_grouped_by_region.head()"
      ]
    },
    {
      "cell_type": "code",
      "execution_count": null,
      "id": "ad73f058-55ea-400a-9b6d-258a5355f2da",
      "metadata": {
        "id": "ad73f058-55ea-400a-9b6d-258a5355f2da"
      },
      "outputs": [],
      "source": [
        "taxi_grouped_by_region['total_amount'].hist(bins=100, figsize=(10,5))\n"
      ]
    },
    {
      "cell_type": "code",
      "execution_count": null,
      "id": "c0ba8c08-6819-4969-8ff8-2673fff48eee",
      "metadata": {
        "id": "c0ba8c08-6819-4969-8ff8-2673fff48eee"
      },
      "outputs": [],
      "source": [
        "taxi_grouped_by_region['trip_distance'].hist(bins=100, figsize=(10,5))"
      ]
    },
    {
      "cell_type": "code",
      "execution_count": null,
      "id": "8d835356-5095-4536-a3d2-6ebdfb9e64be",
      "metadata": {
        "id": "8d835356-5095-4536-a3d2-6ebdfb9e64be"
      },
      "outputs": [],
      "source": [
        "data_benchmark_model = taxi_grouped_by_region.copy()\n",
        "data_benchmark_model"
      ]
    },
    {
      "cell_type": "code",
      "execution_count": null,
      "id": "2ed61c3c-b930-486e-93b4-fa3ea78f4f50",
      "metadata": {
        "id": "2ed61c3c-b930-486e-93b4-fa3ea78f4f50"
      },
      "outputs": [],
      "source": [
        "categioral_features_benchmark = ['PULocationID','transiction_month','transiction_day','transiction_hour']\n",
        "input_features_benchmark = categioral_features_benchmark + ['trip_distance']\n",
        "target_features_benchmark = ['total_amount']"
      ]
    },
    {
      "cell_type": "code",
      "execution_count": null,
      "id": "d51a4dea-98be-4598-a911-9377758d9986",
      "metadata": {
        "id": "d51a4dea-98be-4598-a911-9377758d9986"
      },
      "outputs": [],
      "source": [
        "from sklearn.model_selection import train_test_split"
      ]
    },
    {
      "cell_type": "code",
      "execution_count": null,
      "id": "75643eaf-e1cd-4533-8dc8-3cf96abe745b",
      "metadata": {
        "id": "75643eaf-e1cd-4533-8dc8-3cf96abe745b"
      },
      "outputs": [],
      "source": [
        "x_bench = data_benchmark_model[input_features_benchmark]\n",
        "y_bench = data_benchmark_model[target_features_benchmark]\n",
        "\n",
        "x_bench = pd.get_dummies(x_bench)\n",
        "\n",
        "x_train_b, x_test_b, y_train_b, y_test_b = train_test_split(x_bench,y_bench, test_size= 0.33, random_state=42)"
      ]
    },
    {
      "cell_type": "code",
      "execution_count": null,
      "id": "35cae95d-36de-41bb-aa91-ada2f5f1fda2",
      "metadata": {
        "id": "35cae95d-36de-41bb-aa91-ada2f5f1fda2"
      },
      "outputs": [],
      "source": [
        "from sklearn.tree import DecisionTreeRegressor\n",
        "\n",
        "tree = DecisionTreeRegressor(max_depth=10)\n",
        "tree.fit(x_train_b,y_train_b)"
      ]
    },
    {
      "cell_type": "code",
      "execution_count": null,
      "id": "4aea565f-192f-4e1f-aebc-25825901e750",
      "metadata": {
        "id": "4aea565f-192f-4e1f-aebc-25825901e750"
      },
      "outputs": [],
      "source": [
        "model_at_hand = tree\n",
        "\n",
        "y_pred_b = model_at_hand.predict(x_test_b)\n",
        "\n",
        "from sklearn.metrics import mean_absolute_error\n",
        "from sklearn.metrics import mean_squared_error\n",
        "from sklearn.metrics import r2_score\n",
        "from math import sqrt\n",
        "\n",
        "print('mean_absolute_error',mean_absolute_error(y_test_b,y_pred_b))\n",
        "print('mean_squared_error',mean_squared_error(y_test_b,y_pred_b))\n",
        "print('sqrt',sqrt(mean_squared_error(y_test_b,y_pred_b)))\n",
        "print('r2_score',r2_score(y_test_b, y_pred_b))"
      ]
    },
    {
      "cell_type": "code",
      "execution_count": null,
      "id": "1ba9b7e1-1e1d-4221-ba3f-1e8ae4039b83",
      "metadata": {
        "id": "1ba9b7e1-1e1d-4221-ba3f-1e8ae4039b83"
      },
      "outputs": [],
      "source": []
    }
  ],
  "metadata": {
    "kernelspec": {
      "display_name": "Python 3 (ipykernel)",
      "language": "python",
      "name": "python3"
    },
    "language_info": {
      "codemirror_mode": {
        "name": "ipython",
        "version": 3
      },
      "file_extension": ".py",
      "mimetype": "text/x-python",
      "name": "python",
      "nbconvert_exporter": "python",
      "pygments_lexer": "ipython3",
      "version": "3.12.5"
    },
    "colab": {
      "provenance": []
    }
  },
  "nbformat": 4,
  "nbformat_minor": 5
}