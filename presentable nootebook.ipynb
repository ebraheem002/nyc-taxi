{
  "cells": [
    {
      "cell_type": "markdown",
      "id": "62d1f3dd-01a3-4344-99d8-f6504ca47c4d",
      "metadata": {
        "id": "62d1f3dd-01a3-4344-99d8-f6504ca47c4d"
      },
      "source": [
        "# 1-import Data\n"
      ]
    },
    {
      "cell_type": "code",
      "execution_count": 2,
      "id": "4b213585-f60a-4e51-ac76-4d0dc92d8306",
      "metadata": {
        "editable": true,
        "tags": [],
        "id": "4b213585-f60a-4e51-ac76-4d0dc92d8306"
      },
      "outputs": [],
      "source": [
        "import pandas as pd"
      ]
    },
    {
      "cell_type": "code",
      "execution_count": 3,
      "id": "70f50e88-89ee-4f51-82a0-518870993fcb",
      "metadata": {
        "id": "70f50e88-89ee-4f51-82a0-518870993fcb"
      },
      "outputs": [],
      "source": [
        "\n",
        "cols = ['tpep_pickup_datetime', 'tpep_dropoff_datetime',\n",
        "       'passenger_count', 'trip_distance', 'RatecodeID','PULocationID',\n",
        "        'DOLocationID', 'payment_type', 'total_amount']\n",
        "\n",
        "taxi_jan_2019 = pd.read_parquet('yellow_tripdata_2019-01.parquet', columns=cols)\n",
        "\n",
        "# To add new data in the future\n",
        "taxi_db = pd.concat([taxi_jan_2019])"
      ]
    },
    {
      "cell_type": "markdown",
      "source": [
        "# Data exploration"
      ],
      "metadata": {
        "id": "pyGiYeiiqrJD"
      },
      "id": "pyGiYeiiqrJD"
    },
    {
      "cell_type": "code",
      "execution_count": 4,
      "id": "9a81718d-344e-4d2d-9a7a-4509e837c16e",
      "metadata": {
        "editable": true,
        "tags": [],
        "id": "9a81718d-344e-4d2d-9a7a-4509e837c16e",
        "colab": {
          "base_uri": "https://localhost:8080/",
          "height": 226
        },
        "outputId": "cbdde2cb-6ee9-4ae0-8efe-eed907ee0ad9"
      },
      "outputs": [
        {
          "output_type": "execute_result",
          "data": {
            "text/plain": [
              "  tpep_pickup_datetime tpep_dropoff_datetime  passenger_count  trip_distance  \\\n",
              "0  2019-01-01 00:46:40   2019-01-01 00:53:20              1.0            1.5   \n",
              "1  2019-01-01 00:59:47   2019-01-01 01:18:59              1.0            2.6   \n",
              "2  2018-12-21 13:48:30   2018-12-21 13:52:40              3.0            0.0   \n",
              "3  2018-11-28 15:52:25   2018-11-28 15:55:45              5.0            0.0   \n",
              "4  2018-11-28 15:56:57   2018-11-28 15:58:33              5.0            0.0   \n",
              "\n",
              "   RatecodeID  PULocationID  DOLocationID  payment_type  total_amount  \n",
              "0         1.0           151           239             1          9.95  \n",
              "1         1.0           239           246             1         16.30  \n",
              "2         1.0           236           236             1          5.80  \n",
              "3         1.0           193           193             2          7.55  \n",
              "4         2.0           193           193             2         55.55  "
            ],
            "text/html": [
              "\n",
              "  <div id=\"df-6adfa8e4-48a4-48ac-89e6-8a773772b360\" class=\"colab-df-container\">\n",
              "    <div>\n",
              "<style scoped>\n",
              "    .dataframe tbody tr th:only-of-type {\n",
              "        vertical-align: middle;\n",
              "    }\n",
              "\n",
              "    .dataframe tbody tr th {\n",
              "        vertical-align: top;\n",
              "    }\n",
              "\n",
              "    .dataframe thead th {\n",
              "        text-align: right;\n",
              "    }\n",
              "</style>\n",
              "<table border=\"1\" class=\"dataframe\">\n",
              "  <thead>\n",
              "    <tr style=\"text-align: right;\">\n",
              "      <th></th>\n",
              "      <th>tpep_pickup_datetime</th>\n",
              "      <th>tpep_dropoff_datetime</th>\n",
              "      <th>passenger_count</th>\n",
              "      <th>trip_distance</th>\n",
              "      <th>RatecodeID</th>\n",
              "      <th>PULocationID</th>\n",
              "      <th>DOLocationID</th>\n",
              "      <th>payment_type</th>\n",
              "      <th>total_amount</th>\n",
              "    </tr>\n",
              "  </thead>\n",
              "  <tbody>\n",
              "    <tr>\n",
              "      <th>0</th>\n",
              "      <td>2019-01-01 00:46:40</td>\n",
              "      <td>2019-01-01 00:53:20</td>\n",
              "      <td>1.0</td>\n",
              "      <td>1.5</td>\n",
              "      <td>1.0</td>\n",
              "      <td>151</td>\n",
              "      <td>239</td>\n",
              "      <td>1</td>\n",
              "      <td>9.95</td>\n",
              "    </tr>\n",
              "    <tr>\n",
              "      <th>1</th>\n",
              "      <td>2019-01-01 00:59:47</td>\n",
              "      <td>2019-01-01 01:18:59</td>\n",
              "      <td>1.0</td>\n",
              "      <td>2.6</td>\n",
              "      <td>1.0</td>\n",
              "      <td>239</td>\n",
              "      <td>246</td>\n",
              "      <td>1</td>\n",
              "      <td>16.30</td>\n",
              "    </tr>\n",
              "    <tr>\n",
              "      <th>2</th>\n",
              "      <td>2018-12-21 13:48:30</td>\n",
              "      <td>2018-12-21 13:52:40</td>\n",
              "      <td>3.0</td>\n",
              "      <td>0.0</td>\n",
              "      <td>1.0</td>\n",
              "      <td>236</td>\n",
              "      <td>236</td>\n",
              "      <td>1</td>\n",
              "      <td>5.80</td>\n",
              "    </tr>\n",
              "    <tr>\n",
              "      <th>3</th>\n",
              "      <td>2018-11-28 15:52:25</td>\n",
              "      <td>2018-11-28 15:55:45</td>\n",
              "      <td>5.0</td>\n",
              "      <td>0.0</td>\n",
              "      <td>1.0</td>\n",
              "      <td>193</td>\n",
              "      <td>193</td>\n",
              "      <td>2</td>\n",
              "      <td>7.55</td>\n",
              "    </tr>\n",
              "    <tr>\n",
              "      <th>4</th>\n",
              "      <td>2018-11-28 15:56:57</td>\n",
              "      <td>2018-11-28 15:58:33</td>\n",
              "      <td>5.0</td>\n",
              "      <td>0.0</td>\n",
              "      <td>2.0</td>\n",
              "      <td>193</td>\n",
              "      <td>193</td>\n",
              "      <td>2</td>\n",
              "      <td>55.55</td>\n",
              "    </tr>\n",
              "  </tbody>\n",
              "</table>\n",
              "</div>\n",
              "    <div class=\"colab-df-buttons\">\n",
              "\n",
              "  <div class=\"colab-df-container\">\n",
              "    <button class=\"colab-df-convert\" onclick=\"convertToInteractive('df-6adfa8e4-48a4-48ac-89e6-8a773772b360')\"\n",
              "            title=\"Convert this dataframe to an interactive table.\"\n",
              "            style=\"display:none;\">\n",
              "\n",
              "  <svg xmlns=\"http://www.w3.org/2000/svg\" height=\"24px\" viewBox=\"0 -960 960 960\">\n",
              "    <path d=\"M120-120v-720h720v720H120Zm60-500h600v-160H180v160Zm220 220h160v-160H400v160Zm0 220h160v-160H400v160ZM180-400h160v-160H180v160Zm440 0h160v-160H620v160ZM180-180h160v-160H180v160Zm440 0h160v-160H620v160Z\"/>\n",
              "  </svg>\n",
              "    </button>\n",
              "\n",
              "  <style>\n",
              "    .colab-df-container {\n",
              "      display:flex;\n",
              "      gap: 12px;\n",
              "    }\n",
              "\n",
              "    .colab-df-convert {\n",
              "      background-color: #E8F0FE;\n",
              "      border: none;\n",
              "      border-radius: 50%;\n",
              "      cursor: pointer;\n",
              "      display: none;\n",
              "      fill: #1967D2;\n",
              "      height: 32px;\n",
              "      padding: 0 0 0 0;\n",
              "      width: 32px;\n",
              "    }\n",
              "\n",
              "    .colab-df-convert:hover {\n",
              "      background-color: #E2EBFA;\n",
              "      box-shadow: 0px 1px 2px rgba(60, 64, 67, 0.3), 0px 1px 3px 1px rgba(60, 64, 67, 0.15);\n",
              "      fill: #174EA6;\n",
              "    }\n",
              "\n",
              "    .colab-df-buttons div {\n",
              "      margin-bottom: 4px;\n",
              "    }\n",
              "\n",
              "    [theme=dark] .colab-df-convert {\n",
              "      background-color: #3B4455;\n",
              "      fill: #D2E3FC;\n",
              "    }\n",
              "\n",
              "    [theme=dark] .colab-df-convert:hover {\n",
              "      background-color: #434B5C;\n",
              "      box-shadow: 0px 1px 3px 1px rgba(0, 0, 0, 0.15);\n",
              "      filter: drop-shadow(0px 1px 2px rgba(0, 0, 0, 0.3));\n",
              "      fill: #FFFFFF;\n",
              "    }\n",
              "  </style>\n",
              "\n",
              "    <script>\n",
              "      const buttonEl =\n",
              "        document.querySelector('#df-6adfa8e4-48a4-48ac-89e6-8a773772b360 button.colab-df-convert');\n",
              "      buttonEl.style.display =\n",
              "        google.colab.kernel.accessAllowed ? 'block' : 'none';\n",
              "\n",
              "      async function convertToInteractive(key) {\n",
              "        const element = document.querySelector('#df-6adfa8e4-48a4-48ac-89e6-8a773772b360');\n",
              "        const dataTable =\n",
              "          await google.colab.kernel.invokeFunction('convertToInteractive',\n",
              "                                                    [key], {});\n",
              "        if (!dataTable) return;\n",
              "\n",
              "        const docLinkHtml = 'Like what you see? Visit the ' +\n",
              "          '<a target=\"_blank\" href=https://colab.research.google.com/notebooks/data_table.ipynb>data table notebook</a>'\n",
              "          + ' to learn more about interactive tables.';\n",
              "        element.innerHTML = '';\n",
              "        dataTable['output_type'] = 'display_data';\n",
              "        await google.colab.output.renderOutput(dataTable, element);\n",
              "        const docLink = document.createElement('div');\n",
              "        docLink.innerHTML = docLinkHtml;\n",
              "        element.appendChild(docLink);\n",
              "      }\n",
              "    </script>\n",
              "  </div>\n",
              "\n",
              "\n",
              "    <div id=\"df-d9ecfad1-50a1-4b6b-a971-72aa7ee3d8f7\">\n",
              "      <button class=\"colab-df-quickchart\" onclick=\"quickchart('df-d9ecfad1-50a1-4b6b-a971-72aa7ee3d8f7')\"\n",
              "                title=\"Suggest charts\"\n",
              "                style=\"display:none;\">\n",
              "\n",
              "<svg xmlns=\"http://www.w3.org/2000/svg\" height=\"24px\"viewBox=\"0 0 24 24\"\n",
              "     width=\"24px\">\n",
              "    <g>\n",
              "        <path d=\"M19 3H5c-1.1 0-2 .9-2 2v14c0 1.1.9 2 2 2h14c1.1 0 2-.9 2-2V5c0-1.1-.9-2-2-2zM9 17H7v-7h2v7zm4 0h-2V7h2v10zm4 0h-2v-4h2v4z\"/>\n",
              "    </g>\n",
              "</svg>\n",
              "      </button>\n",
              "\n",
              "<style>\n",
              "  .colab-df-quickchart {\n",
              "      --bg-color: #E8F0FE;\n",
              "      --fill-color: #1967D2;\n",
              "      --hover-bg-color: #E2EBFA;\n",
              "      --hover-fill-color: #174EA6;\n",
              "      --disabled-fill-color: #AAA;\n",
              "      --disabled-bg-color: #DDD;\n",
              "  }\n",
              "\n",
              "  [theme=dark] .colab-df-quickchart {\n",
              "      --bg-color: #3B4455;\n",
              "      --fill-color: #D2E3FC;\n",
              "      --hover-bg-color: #434B5C;\n",
              "      --hover-fill-color: #FFFFFF;\n",
              "      --disabled-bg-color: #3B4455;\n",
              "      --disabled-fill-color: #666;\n",
              "  }\n",
              "\n",
              "  .colab-df-quickchart {\n",
              "    background-color: var(--bg-color);\n",
              "    border: none;\n",
              "    border-radius: 50%;\n",
              "    cursor: pointer;\n",
              "    display: none;\n",
              "    fill: var(--fill-color);\n",
              "    height: 32px;\n",
              "    padding: 0;\n",
              "    width: 32px;\n",
              "  }\n",
              "\n",
              "  .colab-df-quickchart:hover {\n",
              "    background-color: var(--hover-bg-color);\n",
              "    box-shadow: 0 1px 2px rgba(60, 64, 67, 0.3), 0 1px 3px 1px rgba(60, 64, 67, 0.15);\n",
              "    fill: var(--button-hover-fill-color);\n",
              "  }\n",
              "\n",
              "  .colab-df-quickchart-complete:disabled,\n",
              "  .colab-df-quickchart-complete:disabled:hover {\n",
              "    background-color: var(--disabled-bg-color);\n",
              "    fill: var(--disabled-fill-color);\n",
              "    box-shadow: none;\n",
              "  }\n",
              "\n",
              "  .colab-df-spinner {\n",
              "    border: 2px solid var(--fill-color);\n",
              "    border-color: transparent;\n",
              "    border-bottom-color: var(--fill-color);\n",
              "    animation:\n",
              "      spin 1s steps(1) infinite;\n",
              "  }\n",
              "\n",
              "  @keyframes spin {\n",
              "    0% {\n",
              "      border-color: transparent;\n",
              "      border-bottom-color: var(--fill-color);\n",
              "      border-left-color: var(--fill-color);\n",
              "    }\n",
              "    20% {\n",
              "      border-color: transparent;\n",
              "      border-left-color: var(--fill-color);\n",
              "      border-top-color: var(--fill-color);\n",
              "    }\n",
              "    30% {\n",
              "      border-color: transparent;\n",
              "      border-left-color: var(--fill-color);\n",
              "      border-top-color: var(--fill-color);\n",
              "      border-right-color: var(--fill-color);\n",
              "    }\n",
              "    40% {\n",
              "      border-color: transparent;\n",
              "      border-right-color: var(--fill-color);\n",
              "      border-top-color: var(--fill-color);\n",
              "    }\n",
              "    60% {\n",
              "      border-color: transparent;\n",
              "      border-right-color: var(--fill-color);\n",
              "    }\n",
              "    80% {\n",
              "      border-color: transparent;\n",
              "      border-right-color: var(--fill-color);\n",
              "      border-bottom-color: var(--fill-color);\n",
              "    }\n",
              "    90% {\n",
              "      border-color: transparent;\n",
              "      border-bottom-color: var(--fill-color);\n",
              "    }\n",
              "  }\n",
              "</style>\n",
              "\n",
              "      <script>\n",
              "        async function quickchart(key) {\n",
              "          const quickchartButtonEl =\n",
              "            document.querySelector('#' + key + ' button');\n",
              "          quickchartButtonEl.disabled = true;  // To prevent multiple clicks.\n",
              "          quickchartButtonEl.classList.add('colab-df-spinner');\n",
              "          try {\n",
              "            const charts = await google.colab.kernel.invokeFunction(\n",
              "                'suggestCharts', [key], {});\n",
              "          } catch (error) {\n",
              "            console.error('Error during call to suggestCharts:', error);\n",
              "          }\n",
              "          quickchartButtonEl.classList.remove('colab-df-spinner');\n",
              "          quickchartButtonEl.classList.add('colab-df-quickchart-complete');\n",
              "        }\n",
              "        (() => {\n",
              "          let quickchartButtonEl =\n",
              "            document.querySelector('#df-d9ecfad1-50a1-4b6b-a971-72aa7ee3d8f7 button');\n",
              "          quickchartButtonEl.style.display =\n",
              "            google.colab.kernel.accessAllowed ? 'block' : 'none';\n",
              "        })();\n",
              "      </script>\n",
              "    </div>\n",
              "\n",
              "    </div>\n",
              "  </div>\n"
            ],
            "application/vnd.google.colaboratory.intrinsic+json": {
              "type": "dataframe",
              "variable_name": "taxi_db"
            }
          },
          "metadata": {},
          "execution_count": 4
        }
      ],
      "source": [
        "taxi_db.head()"
      ]
    },
    {
      "cell_type": "code",
      "execution_count": 5,
      "id": "e75ca52f-1137-4936-a488-461ed46498c1",
      "metadata": {
        "id": "e75ca52f-1137-4936-a488-461ed46498c1",
        "colab": {
          "base_uri": "https://localhost:8080/"
        },
        "outputId": "c8af4890-ce86-4249-8c25-58703e56f614"
      },
      "outputs": [
        {
          "output_type": "execute_result",
          "data": {
            "text/plain": [
              "(7696617, 9)"
            ]
          },
          "metadata": {},
          "execution_count": 5
        }
      ],
      "source": [
        "taxi_db.shape"
      ]
    },
    {
      "cell_type": "code",
      "execution_count": null,
      "id": "58a5636a-e90e-4933-a467-4ab4a7e461c4",
      "metadata": {
        "id": "58a5636a-e90e-4933-a467-4ab4a7e461c4",
        "colab": {
          "base_uri": "https://localhost:8080/"
        },
        "outputId": "76ea7057-1a7c-4c7d-b8fb-0c477f6b398b"
      },
      "outputs": [
        {
          "output_type": "execute_result",
          "data": {
            "text/plain": [
              "array([[<Axes: title={'center': 'tpep_pickup_datetime'}>,\n",
              "        <Axes: title={'center': 'tpep_dropoff_datetime'}>,\n",
              "        <Axes: title={'center': 'passenger_count'}>],\n",
              "       [<Axes: title={'center': 'trip_distance'}>,\n",
              "        <Axes: title={'center': 'RatecodeID'}>,\n",
              "        <Axes: title={'center': 'PULocationID'}>],\n",
              "       [<Axes: title={'center': 'DOLocationID'}>,\n",
              "        <Axes: title={'center': 'payment_type'}>,\n",
              "        <Axes: title={'center': 'total_amount'}>]], dtype=object)"
            ]
          },
          "metadata": {},
          "execution_count": 6
        }
      ],
      "source": [
        "taxi_db.hist(figsize=(20,10), bins=60)"
      ]
    },
    {
      "cell_type": "code",
      "execution_count": null,
      "id": "3f59b1ba-8779-4036-b6b9-48d4259caf0a",
      "metadata": {
        "editable": true,
        "tags": [],
        "id": "3f59b1ba-8779-4036-b6b9-48d4259caf0a"
      },
      "outputs": [],
      "source": [
        "taxi_db['RatecodeID'].value_counts()\n"
      ]
    },
    {
      "cell_type": "code",
      "execution_count": null,
      "id": "94070ba0-ef5a-4a94-bcba-3dead114aec4",
      "metadata": {
        "id": "94070ba0-ef5a-4a94-bcba-3dead114aec4"
      },
      "outputs": [],
      "source": [
        "taxi_db.reset_index().plot(kind='scatter', y='total_amount', x='index', figsize=(10,5), bin=60)"
      ]
    },
    {
      "cell_type": "code",
      "execution_count": null,
      "id": "fab6d1f0-b0a6-494e-ae9f-11cf76832a0c",
      "metadata": {
        "id": "fab6d1f0-b0a6-494e-ae9f-11cf76832a0c"
      },
      "outputs": [],
      "source": [
        "taxi_db[taxi_db['total_amount']<1000].reset_index().plot(kind='scatter', y='total_amount', x='index', figsize=(10,6))"
      ]
    },
    {
      "cell_type": "code",
      "execution_count": null,
      "id": "8e4058cd-d462-4b15-a968-9a8ee18da7ce",
      "metadata": {
        "id": "8e4058cd-d462-4b15-a968-9a8ee18da7ce"
      },
      "outputs": [],
      "source": [
        "print(taxi_db[taxi_db['total_amount']<0].shape)\n",
        "taxi_db[taxi_db['total_amount']<0].reset_index().plot(figsize=(10,5) ,kind='scatter', y='total_amount', x='index')"
      ]
    },
    {
      "cell_type": "code",
      "execution_count": null,
      "id": "506509ca-06b6-4b52-8e21-234505271e6a",
      "metadata": {
        "id": "506509ca-06b6-4b52-8e21-234505271e6a"
      },
      "outputs": [],
      "source": [
        "taxi_db[taxi_db['total_amount']<0].head()"
      ]
    },
    {
      "cell_type": "code",
      "execution_count": null,
      "id": "8b63a13c-dbd7-4947-b396-295b800c9d94",
      "metadata": {
        "id": "8b63a13c-dbd7-4947-b396-295b800c9d94"
      },
      "outputs": [],
      "source": [
        "taxi_db[taxi_db['total_amount']<0]['payment_type'].value_counts()"
      ]
    },
    {
      "cell_type": "code",
      "execution_count": null,
      "id": "a034437c-99fc-4274-b4fb-692e03a1ca74",
      "metadata": {
        "id": "a034437c-99fc-4274-b4fb-692e03a1ca74"
      },
      "outputs": [],
      "source": [
        "taxi_db[taxi_db['total_amount']==0].shape\n",
        "taxi_db[taxi_db['total_amount']==0].head()"
      ]
    },
    {
      "cell_type": "code",
      "execution_count": null,
      "id": "dd7df75c-4b45-42f8-8e2e-5f632873b4fa",
      "metadata": {
        "id": "dd7df75c-4b45-42f8-8e2e-5f632873b4fa"
      },
      "outputs": [],
      "source": [
        "taxi_db_prepared = taxi_db.copy()"
      ]
    },
    {
      "cell_type": "code",
      "execution_count": null,
      "id": "e83e428d-042d-4105-8bc0-fa6b9e7ba2d7",
      "metadata": {
        "id": "e83e428d-042d-4105-8bc0-fa6b9e7ba2d7"
      },
      "outputs": [],
      "source": [
        "taxi_db_prepared = taxi_db_prepared[(taxi_db_prepared['total_amount']>=0)&(taxi_db_prepared['total_amount']<200)]\n",
        "taxi_db_prepared.dtypes\n"
      ]
    },
    {
      "cell_type": "code",
      "execution_count": null,
      "id": "af3d4b45-783a-414e-b7de-df49aeb7dc53",
      "metadata": {
        "id": "af3d4b45-783a-414e-b7de-df49aeb7dc53"
      },
      "outputs": [],
      "source": [
        "taxi_db_prepared['transiction_year'] = taxi_db_prepared['tpep_pickup_datetime'].dt.year\n",
        "taxi_db_prepared['transiction_month'] = taxi_db_prepared['tpep_pickup_datetime'].dt.month\n",
        "taxi_db_prepared['transiction_day'] = taxi_db_prepared['tpep_pickup_datetime'].dt.day\n",
        "taxi_db_prepared['transiction_hour'] = taxi_db_prepared['tpep_pickup_datetime'].dt.hour\n",
        "taxi_db_prepared['transiction_date'] = taxi_db_prepared['tpep_pickup_datetime'].dt.normalize()\n"
      ]
    },
    {
      "cell_type": "code",
      "execution_count": null,
      "id": "bb72ac9a-817e-47d9-b707-70ee6f6a7050",
      "metadata": {
        "id": "bb72ac9a-817e-47d9-b707-70ee6f6a7050"
      },
      "outputs": [],
      "source": [
        "taxi_db_prepared.head()"
      ]
    },
    {
      "cell_type": "code",
      "execution_count": null,
      "id": "3b6d6b05-52ff-4080-a8dc-87af63f97ace",
      "metadata": {
        "id": "3b6d6b05-52ff-4080-a8dc-87af63f97ace"
      },
      "outputs": [],
      "source": [
        "taxi_db_prepared.sample(5000).hist(figsize=(20,10), bins = 60)"
      ]
    },
    {
      "cell_type": "code",
      "execution_count": null,
      "id": "68ef2eb9-ef4a-408c-ac77-72ec8c45a73d",
      "metadata": {
        "id": "68ef2eb9-ef4a-408c-ac77-72ec8c45a73d"
      },
      "outputs": [],
      "source": [
        "taxi_db_prepared = taxi_db_prepared[taxi_db_prepared['transiction_year'] == 2019]\n",
        "taxi_db_prepared = taxi_db_prepared[taxi_db_prepared['transiction_month'] == 1]"
      ]
    },
    {
      "cell_type": "code",
      "execution_count": null,
      "id": "b3425cc1-df91-4d77-aa06-71a6bc2eae22",
      "metadata": {
        "id": "b3425cc1-df91-4d77-aa06-71a6bc2eae22"
      },
      "outputs": [],
      "source": [
        "taxi_db_prepared.head()\n"
      ]
    },
    {
      "cell_type": "code",
      "execution_count": null,
      "id": "a8824aea-feb9-4589-84b1-a7c0f9b7d3c3",
      "metadata": {
        "id": "a8824aea-feb9-4589-84b1-a7c0f9b7d3c3"
      },
      "outputs": [],
      "source": [
        "from sklearn.preprocessing import LabelEncoder\n",
        "\n",
        "categioral_columns = ['PULocationID', 'DOLocationID', 'payment_type']\n",
        "date_cols = ['transiction_date', 'transiction_month', 'transiction_day', 'transiction_hour']\n",
        "\n",
        "numerical_columns = ['trip_distance']\n",
        "target = 'total_amount'\n",
        "df_encoded= taxi_db_prepared[categioral_columns +date_cols+ numerical_columns+[target]].copy()\n",
        "\n",
        "for col in categioral_columns:\n",
        "  le= LabelEncoder()\n",
        "  df_encoded[col] = le.fit_transform(df_encoded[col].astype(str))\n"
      ]
    },
    {
      "cell_type": "code",
      "source": [
        "df_encoded.head()"
      ],
      "metadata": {
        "id": "AWjFQWjwsUf8"
      },
      "id": "AWjFQWjwsUf8",
      "execution_count": null,
      "outputs": []
    },
    {
      "cell_type": "code",
      "execution_count": null,
      "id": "3eb93cd7-2854-4134-9151-8b15d0f105f5",
      "metadata": {
        "id": "3eb93cd7-2854-4134-9151-8b15d0f105f5"
      },
      "outputs": [],
      "source": [
        "taxi_grouped_by_region = df_encoded.groupby(categioral_columns).mean().reset_index()\n",
        "taxi_grouped_by_region['transiction_count'] = df_encoded.groupby(categioral_columns).count().reset_index()['total_amount']\n",
        "print(taxi_grouped_by_region.shape)\n",
        "taxi_grouped_by_region.head()"
      ]
    },
    {
      "cell_type": "code",
      "execution_count": null,
      "id": "ad73f058-55ea-400a-9b6d-258a5355f2da",
      "metadata": {
        "id": "ad73f058-55ea-400a-9b6d-258a5355f2da"
      },
      "outputs": [],
      "source": [
        "taxi_grouped_by_region['total_amount'].hist(bins=100, figsize=(10,5))\n"
      ]
    },
    {
      "cell_type": "code",
      "execution_count": null,
      "id": "c0ba8c08-6819-4969-8ff8-2673fff48eee",
      "metadata": {
        "id": "c0ba8c08-6819-4969-8ff8-2673fff48eee"
      },
      "outputs": [],
      "source": [
        "taxi_grouped_by_region['trip_distance'].hist(bins=100, figsize=(10,5))"
      ]
    },
    {
      "cell_type": "code",
      "execution_count": null,
      "id": "8d835356-5095-4536-a3d2-6ebdfb9e64be",
      "metadata": {
        "id": "8d835356-5095-4536-a3d2-6ebdfb9e64be"
      },
      "outputs": [],
      "source": [
        "from sklearn.model_selection import train_test_split\n",
        "x = df_encoded[categioral_columns + numerical_columns]\n",
        "y = df_encoded[[target]]\n",
        "x_train, x_test, y_train, y_test = train_test_split(x, y, test_size=0.33, random_state=42)\n"
      ]
    },
    {
      "cell_type": "code",
      "execution_count": null,
      "id": "35cae95d-36de-41bb-aa91-ada2f5f1fda2",
      "metadata": {
        "id": "35cae95d-36de-41bb-aa91-ada2f5f1fda2"
      },
      "outputs": [],
      "source": [
        "from sklearn.tree import DecisionTreeRegressor\n",
        "\n",
        "tree = DecisionTreeRegressor(max_depth=15, min_samples_leaf=10)\n",
        "tree.fit(x_train,y_train)"
      ]
    },
    {
      "cell_type": "code",
      "execution_count": null,
      "id": "4aea565f-192f-4e1f-aebc-25825901e750",
      "metadata": {
        "id": "4aea565f-192f-4e1f-aebc-25825901e750"
      },
      "outputs": [],
      "source": [
        "model_at_hand = tree\n",
        "\n",
        "y_pred = model_at_hand.predict(x_test)\n",
        "\n",
        "from sklearn.metrics import mean_absolute_error\n",
        "from sklearn.metrics import mean_squared_error\n",
        "from sklearn.metrics import r2_score\n",
        "from math import sqrt\n",
        "\n",
        "print('mean_absolute_error',mean_absolute_error(y_test,y_pred))\n",
        "print('mean_squared_error',mean_squared_error(y_test,y_pred))\n",
        "print('sqrt',sqrt(mean_squared_error(y_test,y_pred)))\n",
        "print('r2_score',r2_score(y_test, y_pred))"
      ]
    },
    {
      "cell_type": "code",
      "execution_count": null,
      "id": "1ba9b7e1-1e1d-4221-ba3f-1e8ae4039b83",
      "metadata": {
        "id": "1ba9b7e1-1e1d-4221-ba3f-1e8ae4039b83"
      },
      "outputs": [],
      "source": [
        "# from sklearn.model_selection import GridSearchCV\n",
        "\n",
        "# params = {\n",
        "#     \"max_depth\" :[5,10,15,20],\n",
        "#     \"min_samples_leaf\" : [1,5,10]\n",
        "# }\n",
        "\n",
        "# grid = GridSearchCV(DecisionTreeRegressor(), param_grid=params, cv=3)\n",
        "# grid.fit(x_train,y_train)\n",
        "\n",
        "# print(\"Best parameters:\", grid.best_params_)"
      ]
    },
    {
      "cell_type": "code",
      "source": [
        "from sklearn.ensemble import RandomForestRegressor\n",
        "\n",
        "x_sample = x_train.sample(300000,  random_state=42)\n",
        "y_sample = y_train.loc[x_sample.index]\n",
        "y_sample = y_sample.values.ravel()\n",
        "# rf = RandomForestRegressor(max_depth=15, n_estimators=500,random_state=0 ,n_jobs=-1 )\n",
        "# rf.fit(x_sample,y_sample)\n",
        "\n",
        "# y_pred_rf = rf.predict(x_test)\n",
        "\n",
        "# print(r2_score(y_test, y_pred_rf))"
      ],
      "metadata": {
        "id": "Ms4pR32_7wAl"
      },
      "id": "Ms4pR32_7wAl",
      "execution_count": null,
      "outputs": []
    },
    {
      "cell_type": "code",
      "source": [
        "from sklearn.ensemble import HistGradientBoostingRegressor\n",
        "from sklearn.metrics import r2_score, mean_squared_error, mean_absolute_error\n",
        "import numpy as np\n",
        "\n",
        "# تدريب النموذج على كامل بيانات التدريب\n",
        "hgb = HistGradientBoostingRegressor(\n",
        "    max_iter=200,        # عدد التكرارات (مثل عدد الأشجار)\n",
        "    max_depth=5,         # عمق الشجرة للحد من الأوفر فيتنق\n",
        "    learning_rate=0.1,   # معدل التعلم\n",
        "    random_state=0\n",
        ")\n",
        "\n",
        "# تدريب النموذج\n",
        "hgb.fit(x_train, y_train)\n",
        "\n",
        "# التنبؤ\n",
        "y_pred_hgb = hgb.predict(x_test)\n",
        "y_train_pred = hgb.predict(x_train)\n",
        "\n",
        "# التقييم\n",
        "r2 = r2_score(y_test, y_pred_hgb)\n",
        "mae = mean_absolute_error(y_test, y_pred_hgb)\n",
        "mse = mean_squared_error(y_test, y_pred_hgb)\n",
        "rmse = np.sqrt(mse)\n",
        "\n",
        "print(f\"✅ R² score       : {r2}\")\n",
        "print(f\"📉 MAE            : {mae}\")\n",
        "print(f\"📉 MSE            : {mse}\")\n",
        "print(f\"📉 RMSE           : {rmse}\")\n",
        "\n",
        "train_r2 = r2_score(y_train, y_train_pred)\n",
        "train_rmse = np.sqrt(mean_squared_error(y_train, y_train_pred))\n",
        "\n",
        "print(f\"🎯 Training R²     : {train_r2}\")\n",
        "print(f\"🎯 Training RMSE   : {train_rmse}\")"
      ],
      "metadata": {
        "id": "plTHRapCNQsl"
      },
      "id": "plTHRapCNQsl",
      "execution_count": null,
      "outputs": []
    }
  ],
  "metadata": {
    "kernelspec": {
      "display_name": "Python 3 (ipykernel)",
      "language": "python",
      "name": "python3"
    },
    "language_info": {
      "codemirror_mode": {
        "name": "ipython",
        "version": 3
      },
      "file_extension": ".py",
      "mimetype": "text/x-python",
      "name": "python",
      "nbconvert_exporter": "python",
      "pygments_lexer": "ipython3",
      "version": "3.12.5"
    },
    "colab": {
      "provenance": []
    }
  },
  "nbformat": 4,
  "nbformat_minor": 5
}